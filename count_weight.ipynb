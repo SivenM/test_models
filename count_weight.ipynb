{
 "metadata": {
  "language_info": {
   "codemirror_mode": {
    "name": "ipython",
    "version": 3
   },
   "file_extension": ".py",
   "mimetype": "text/x-python",
   "name": "python",
   "nbconvert_exporter": "python",
   "pygments_lexer": "ipython3",
   "version": "3.8.5"
  },
  "orig_nbformat": 2,
  "kernelspec": {
   "name": "python385jvsc74a57bd0df9cee9fb3f97654edc167da03b4937d4fbeca8b508319e36149f6e1af21311a",
   "display_name": "Python 3.8.5 64-bit ('ml': conda)"
  }
 },
 "nbformat": 4,
 "nbformat_minor": 2,
 "cells": [
  {
   "cell_type": "code",
   "execution_count": 2,
   "metadata": {},
   "outputs": [],
   "source": [
    "import tensorflow as tf\n",
    "import numpy as np"
   ]
  },
  {
   "cell_type": "code",
   "execution_count": 10,
   "metadata": {},
   "outputs": [
    {
     "output_type": "stream",
     "name": "stdout",
     "text": [
      "WARNING:tensorflow:No training configuration found in the save file, so the model was *not* compiled. Compile it manually.\n"
     ]
    }
   ],
   "source": [
    "#model = tf.keras.models.load_model('testing_files\\\\10_tiny\\\\models_h5\\\\model_epoch-2566.h5')\n",
    "model_pr = tf.keras.models.load_model('testing_files\\\\10_tiny\\\\models_h5\\\\10_pr55.h5')"
   ]
  },
  {
   "cell_type": "code",
   "execution_count": 11,
   "metadata": {},
   "outputs": [
    {
     "output_type": "execute_result",
     "data": {
      "text/plain": [
       "56"
      ]
     },
     "metadata": {},
     "execution_count": 11
    }
   ],
   "source": [
    "len(model_pr.layers)"
   ]
  },
  {
   "cell_type": "code",
   "execution_count": 7,
   "metadata": {},
   "outputs": [
    {
     "output_type": "execute_result",
     "data": {
      "text/plain": [
       "[<tensorflow.python.keras.engine.input_layer.InputLayer at 0x21b14efb100>,\n",
       " <tensorflow.python.keras.layers.convolutional.DepthwiseConv2D at 0x21b14efb160>,\n",
       " <tensorflow.python.keras.layers.normalization_v2.BatchNormalization at 0x21b14f60820>,\n",
       " <tensorflow.python.keras.layers.advanced_activations.ReLU at 0x21b14f60a00>,\n",
       " <tensorflow.python.keras.layers.convolutional.Conv2D at 0x21b14f60ee0>,\n",
       " <tensorflow.python.keras.layers.normalization_v2.BatchNormalization at 0x21b14ff4280>,\n",
       " <tensorflow.python.keras.layers.advanced_activations.ReLU at 0x21b14ff4670>,\n",
       " <tensorflow.python.keras.layers.core.Dropout at 0x21b14ff4b50>,\n",
       " <tensorflow.python.keras.layers.convolutional.DepthwiseConv2D at 0x21b14ff4d60>,\n",
       " <tensorflow.python.keras.layers.normalization_v2.BatchNormalization at 0x21b14ff4f40>,\n",
       " <tensorflow.python.keras.layers.advanced_activations.ReLU at 0x21b14ff95b0>,\n",
       " <tensorflow.python.keras.layers.convolutional.Conv2D at 0x21b14ff9a90>,\n",
       " <tensorflow.python.keras.layers.normalization_v2.BatchNormalization at 0x21b14ff9be0>,\n",
       " <tensorflow.python.keras.layers.advanced_activations.ReLU at 0x21b14ffe220>,\n",
       " <tensorflow.python.keras.layers.core.Dropout at 0x21b14ffe700>,\n",
       " <tensorflow.python.keras.layers.convolutional.DepthwiseConv2D at 0x21b14ffe910>,\n",
       " <tensorflow.python.keras.layers.normalization_v2.BatchNormalization at 0x21b14ffef40>,\n",
       " <tensorflow.python.keras.layers.advanced_activations.ReLU at 0x21b15001160>,\n",
       " <tensorflow.python.keras.layers.convolutional.Conv2D at 0x21b15001640>,\n",
       " <tensorflow.python.keras.layers.normalization_v2.BatchNormalization at 0x21b15001790>,\n",
       " <tensorflow.python.keras.layers.advanced_activations.ReLU at 0x21b15001d90>,\n",
       " <tensorflow.python.keras.layers.core.Dropout at 0x21b150082b0>,\n",
       " <tensorflow.python.keras.layers.convolutional.DepthwiseConv2D at 0x21b150084c0>,\n",
       " <tensorflow.python.keras.layers.normalization_v2.BatchNormalization at 0x21b15008af0>,\n",
       " <tensorflow.python.keras.layers.advanced_activations.ReLU at 0x21b15008cd0>,\n",
       " <tensorflow.python.keras.layers.convolutional.Conv2D at 0x21b1500b1f0>,\n",
       " <tensorflow.python.keras.layers.normalization_v2.BatchNormalization at 0x21b1500b340>,\n",
       " <tensorflow.python.keras.layers.advanced_activations.ReLU at 0x21b1500b940>,\n",
       " <tensorflow.python.keras.layers.core.Dropout at 0x21b1500be20>,\n",
       " <tensorflow.python.keras.layers.convolutional.DepthwiseConv2D at 0x21b15011070>,\n",
       " <tensorflow.python.keras.layers.normalization_v2.BatchNormalization at 0x21b150116a0>,\n",
       " <tensorflow.python.keras.layers.advanced_activations.ReLU at 0x21b15011880>,\n",
       " <tensorflow.python.keras.layers.convolutional.Conv2D at 0x21b15011d60>,\n",
       " <tensorflow.python.keras.layers.normalization_v2.BatchNormalization at 0x21b15015130>,\n",
       " <tensorflow.python.keras.layers.advanced_activations.ReLU at 0x21b150154f0>,\n",
       " <tensorflow.python.keras.layers.core.Dropout at 0x21b150159d0>,\n",
       " <tensorflow.python.keras.layers.convolutional.DepthwiseConv2D at 0x21b15015be0>,\n",
       " <tensorflow.python.keras.layers.normalization_v2.BatchNormalization at 0x21b15015e50>,\n",
       " <tensorflow.python.keras.layers.advanced_activations.ReLU at 0x21b15018430>,\n",
       " <tensorflow.python.keras.layers.convolutional.Conv2D at 0x21b15018910>,\n",
       " <tensorflow.python.keras.layers.normalization_v2.BatchNormalization at 0x21b15018a60>,\n",
       " <tensorflow.python.keras.layers.advanced_activations.ReLU at 0x21b150210a0>,\n",
       " <tensorflow.python.keras.layers.core.Dropout at 0x21b15021580>,\n",
       " <tensorflow.python.keras.layers.convolutional.DepthwiseConv2D at 0x21b15021790>,\n",
       " <tensorflow.python.keras.layers.normalization_v2.BatchNormalization at 0x21b15021dc0>,\n",
       " <tensorflow.python.keras.layers.advanced_activations.ReLU at 0x21b15021fa0>,\n",
       " <tensorflow.python.keras.layers.convolutional.Conv2D at 0x21b150234c0>,\n",
       " <tensorflow.python.keras.layers.normalization_v2.BatchNormalization at 0x21b15023610>,\n",
       " <tensorflow.python.keras.layers.advanced_activations.ReLU at 0x21b15023c10>,\n",
       " <tensorflow.python.keras.layers.core.Dropout at 0x21b15029130>,\n",
       " <tensorflow.python.keras.layers.convolutional.Conv2D at 0x21b15029340>,\n",
       " <tensorflow.python.keras.layers.convolutional.Conv2D at 0x21b15029490>,\n",
       " <tensorflow.python.keras.layers.core.Flatten at 0x21b15029f40>,\n",
       " <tensorflow.python.keras.layers.core.Flatten at 0x21b1502c1c0>,\n",
       " <tensorflow.python.keras.layers.core.Dense at 0x21b15029e80>,\n",
       " <tensorflow.python.keras.layers.core.Dense at 0x21b1502c400>]"
      ]
     },
     "metadata": {},
     "execution_count": 7
    }
   ],
   "source": [
    "model.layers"
   ]
  },
  {
   "cell_type": "code",
   "execution_count": null,
   "metadata": {},
   "outputs": [],
   "source": [
    "layer_idx = [4, 11, 18, 25, 32, 39, 46, 50, 51, 54, 55]"
   ]
  },
  {
   "cell_type": "code",
   "execution_count": 27,
   "metadata": {},
   "outputs": [
    {
     "output_type": "execute_result",
     "data": {
      "text/plain": [
       "[array([[[[ 0.        ,  0.3126956 , -0.        ,  0.        ],\n",
       "          [ 0.        , -0.        ,  0.        , -0.        ],\n",
       "          [-0.        ,  0.72658193,  0.        , -0.        ],\n",
       "          ...,\n",
       "          [ 0.        , -0.53286684, -1.2890828 ,  0.        ],\n",
       "          [-0.        , -0.4586254 ,  0.        , -0.8260698 ],\n",
       "          [ 0.        , -0.        ,  0.29544646,  0.        ]]]],\n",
       "       dtype=float32),\n",
       " array([5.9054885 , 0.25308773, 4.531629  , 6.0533032 ], dtype=float32)]"
      ]
     },
     "metadata": {},
     "execution_count": 27
    }
   ],
   "source": [
    "#layer = model.layers[1]\n",
    "layer_pr = model_pr.layers[50]\n",
    "layer_pr.get_weights()"
   ]
  },
  {
   "cell_type": "code",
   "execution_count": 13,
   "metadata": {},
   "outputs": [
    {
     "output_type": "execute_result",
     "data": {
      "text/plain": [
       "[array([[[[ 0.03828958]],\n",
       " \n",
       "         [[ 0.35548052]],\n",
       " \n",
       "         [[-0.41640547]]],\n",
       " \n",
       " \n",
       "        [[[ 0.2206374 ]],\n",
       " \n",
       "         [[-0.08965382]],\n",
       " \n",
       "         [[-0.12480227]]],\n",
       " \n",
       " \n",
       "        [[[ 0.10257421]],\n",
       " \n",
       "         [[-0.6878799 ]],\n",
       " \n",
       "         [[ 0.5872301 ]]]], dtype=float32)]"
      ]
     },
     "metadata": {},
     "execution_count": 13
    }
   ],
   "source": []
  },
  {
   "cell_type": "code",
   "execution_count": 38,
   "metadata": {},
   "outputs": [
    {
     "output_type": "execute_result",
     "data": {
      "text/plain": [
       "array([[[[ 0.        ,  0.3126956 , -0.        ,  0.        ],\n",
       "         [ 0.        , -0.        ,  0.        , -0.        ],\n",
       "         [-0.        ,  0.72658193,  0.        , -0.        ],\n",
       "         ...,\n",
       "         [ 0.        , -0.53286684, -1.2890828 ,  0.        ],\n",
       "         [-0.        , -0.4586254 ,  0.        , -0.8260698 ],\n",
       "         [ 0.        , -0.        ,  0.29544646,  0.        ]]]],\n",
       "      dtype=float32)"
      ]
     },
     "metadata": {},
     "execution_count": 38
    }
   ],
   "source": [
    "layer_pr.get_weights()[0]"
   ]
  },
  {
   "cell_type": "code",
   "execution_count": 39,
   "metadata": {},
   "outputs": [],
   "source": [
    "weights = layer_pr.get_weights()[0]"
   ]
  },
  {
   "cell_type": "code",
   "execution_count": 50,
   "metadata": {},
   "outputs": [
    {
     "output_type": "execute_result",
     "data": {
      "text/plain": [
       "1638"
      ]
     },
     "metadata": {},
     "execution_count": 50
    }
   ],
   "source": [
    "weights[weights == 0.].shape[0]"
   ]
  },
  {
   "cell_type": "code",
   "execution_count": null,
   "metadata": {},
   "outputs": [],
   "source": [
    "weights[weights == 0.].shape[0]"
   ]
  },
  {
   "cell_type": "code",
   "execution_count": 51,
   "metadata": {},
   "outputs": [
    {
     "output_type": "execute_result",
     "data": {
      "text/plain": [
       "(1, 1, 512, 4)"
      ]
     },
     "metadata": {},
     "execution_count": 51
    }
   ],
   "source": [
    "weights.shape"
   ]
  },
  {
   "cell_type": "code",
   "execution_count": 52,
   "metadata": {},
   "outputs": [
    {
     "output_type": "execute_result",
     "data": {
      "text/plain": [
       "2048"
      ]
     },
     "metadata": {},
     "execution_count": 52
    }
   ],
   "source": [
    "get_num_weights(weights.shape)"
   ]
  },
  {
   "cell_type": "code",
   "execution_count": 17,
   "metadata": {},
   "outputs": [
    {
     "output_type": "execute_result",
     "data": {
      "text/plain": [
       "2048"
      ]
     },
     "metadata": {},
     "execution_count": 17
    }
   ],
   "source": [
    "512* 4"
   ]
  },
  {
   "cell_type": "code",
   "execution_count": 53,
   "metadata": {},
   "outputs": [],
   "source": [
    "def get_num_weights(layer_shape):\n",
    "    num = 1\n",
    "    for el in layer_shape:\n",
    "        num = num * el\n",
    "    return num\n",
    "\n",
    "def get_zeros_weights(weights):\n",
    "    return weights[weights == 0.].shape[0]\n",
    "\n",
    "def calculate_weight(input_model):\n",
    "    num_weights_total = 0\n",
    "    num_zeros_weights = 0\n",
    "\n",
    "    layers = input_model.layers\n",
    "    for layer in layers:\n",
    "        weights_list = layer.get_weights()\n",
    "        if len(weights_list) == 0:\n",
    "            continue\n",
    "        weights = weights_list[0]\n",
    "        num_weights_total += get_num_weights(weights.shape)\n",
    "        num_zeros_weights += get_zeros_weights(weights)\n",
    "    num_posiztive_weights = num_weights_total - num_zeros_weights\n",
    "    print(f'Всего весов: {num_weights_total}')\n",
    "    print(f'Ненулевых весов: {num_posiztive_weights}')\n",
    "    print(f'Нулевых весов: {num_zeros_weights}')\n",
    "     "
   ]
  },
  {
   "cell_type": "code",
   "execution_count": 54,
   "metadata": {},
   "outputs": [
    {
     "output_type": "stream",
     "name": "stdout",
     "text": [
      "Всего весов: 201530\nНенулевых весов: 201530\nНулевых весов: 0\n"
     ]
    }
   ],
   "source": [
    "calculate_weight(model)"
   ]
  },
  {
   "cell_type": "code",
   "execution_count": 55,
   "metadata": {},
   "outputs": [
    {
     "output_type": "stream",
     "name": "stdout",
     "text": [
      "Всего весов: 201530\nНенулевых весов: 46215\nНулевых весов: 155315\n"
     ]
    }
   ],
   "source": [
    "calculate_weight(model_pr)"
   ]
  }
 ]
}