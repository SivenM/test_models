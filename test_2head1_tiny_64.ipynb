{
 "metadata": {
  "language_info": {
   "codemirror_mode": {
    "name": "ipython",
    "version": 3
   },
   "file_extension": ".py",
   "mimetype": "text/x-python",
   "name": "python",
   "nbconvert_exporter": "python",
   "pygments_lexer": "ipython3",
   "version": "3.8.5"
  },
  "orig_nbformat": 2,
  "kernelspec": {
   "name": "python385jvsc74a57bd0df9cee9fb3f97654edc167da03b4937d4fbeca8b508319e36149f6e1af21311a",
   "display_name": "Python 3.8.5 64-bit ('ml': conda)"
  }
 },
 "nbformat": 4,
 "nbformat_minor": 2,
 "cells": [
  {
   "cell_type": "code",
   "execution_count": 1,
   "metadata": {},
   "outputs": [
    {
     "output_type": "stream",
     "name": "stdout",
     "text": [
      "Загружаю датасет\n",
      "Датасет загружен2021-04-01 16:27:21.505375: I tensorflow/stream_executor/platform/default/dso_loader.cc:49] Successfully opened dynamic library cudart64_110.dll\n",
      "2021-04-01 16:27:29.806069: I tensorflow/compiler/jit/xla_cpu_device.cc:41] Not creating XLA devices, tf_xla_enable_xla_devices not set\n",
      "2021-04-01 16:27:29.807763: I tensorflow/stream_executor/platform/default/dso_loader.cc:49] Successfully opened dynamic library nvcuda.dll\n",
      "2021-04-01 16:27:29.833075: I tensorflow/core/common_runtime/gpu/gpu_device.cc:1720] Found device 0 with properties: \n",
      "pciBusID: 0000:01:00.0 name: NVIDIA GeForce GTX 1050 Ti computeCapability: 6.1\n",
      "coreClock: 1.4175GHz coreCount: 6 deviceMemorySize: 4.00GiB deviceMemoryBandwidth: 104.43GiB/s\n",
      "2021-04-01 16:27:29.833841: I tensorflow/stream_executor/platform/default/dso_loader.cc:49] Successfully opened dynamic library cudart64_110.dll\n",
      "2021-04-01 16:27:29.858543: I tensorflow/stream_executor/platform/default/dso_loader.cc:49] Successfully opened dynamic library cublas64_11.dll\n",
      "2021-04-01 16:27:29.858932: I tensorflow/stream_executor/platform/default/dso_loader.cc:49] Successfully opened dynamic library cublasLt64_11.dll\n",
      "2021-04-01 16:27:29.871869: I tensorflow/stream_executor/platform/default/dso_loader.cc:49] Successfully opened dynamic library cufft64_10.dll\n",
      "2021-04-01 16:27:29.876408: I tensorflow/stream_executor/platform/default/dso_loader.cc:49] Successfully opened dynamic library curand64_10.dll\n",
      "2021-04-01 16:27:29.907015: I tensorflow/stream_executor/platform/default/dso_loader.cc:49] Successfully opened dynamic library cusolver64_10.dll\n",
      "2021-04-01 16:27:29.917901: I tensorflow/stream_executor/platform/default/dso_loader.cc:49] Successfully opened dynamic library cusparse64_11.dll\n",
      "2021-04-01 16:27:29.920710: I tensorflow/stream_executor/platform/default/dso_loader.cc:49] Successfully opened dynamic library cudnn64_8.dll\n",
      "2021-04-01 16:27:29.921127: I tensorflow/core/common_runtime/gpu/gpu_device.cc:1862] Adding visible gpu devices: 0\n",
      "2021-04-01 16:27:29.922506: I tensorflow/core/common_runtime/gpu/gpu_device.cc:1720] Found device 0 with properties: \n",
      "pciBusID: 0000:01:00.0 name: NVIDIA GeForce GTX 1050 Ti computeCapability: 6.1\n",
      "coreClock: 1.4175GHz coreCount: 6 deviceMemorySize: 4.00GiB deviceMemoryBandwidth: 104.43GiB/s\n",
      "2021-04-01 16:27:29.923629: I tensorflow/stream_executor/platform/default/dso_loader.cc:49] Successfully opened dynamic library cudart64_110.dll\n",
      "2021-04-01 16:27:29.923976: I tensorflow/stream_executor/platform/default/dso_loader.cc:49] Successfully opened dynamic library cublas64_11.dll\n",
      "2021-04-01 16:27:29.924282: I tensorflow/stream_executor/platform/default/dso_loader.cc:49] Successfully opened dynamic library cublasLt64_11.dll\n",
      "2021-04-01 16:27:29.924723: I tensorflow/stream_executor/platform/default/dso_loader.cc:49] Successfully opened dynamic library cufft64_10.dll\n",
      "2021-04-01 16:27:29.925106: I tensorflow/stream_executor/platform/default/dso_loader.cc:49] Successfully opened dynamic library curand64_10.dll\n",
      "2021-04-01 16:27:29.925450: I tensorflow/stream_executor/platform/default/dso_loader.cc:49] Successfully opened dynamic library cusolver64_10.dll\n",
      "2021-04-01 16:27:29.925757: I tensorflow/stream_executor/platform/default/dso_loader.cc:49] Successfully opened dynamic library cusparse64_11.dll\n",
      "2021-04-01 16:27:29.926073: I tensorflow/stream_executor/platform/default/dso_loader.cc:49] Successfully opened dynamic library cudnn64_8.dll\n",
      "2021-04-01 16:27:29.926440: I tensorflow/core/common_runtime/gpu/gpu_device.cc:1862] Adding visible gpu devices: 0\n",
      "2021-04-01 16:27:30.704110: I tensorflow/core/common_runtime/gpu/gpu_device.cc:1261] Device interconnect StreamExecutor with strength 1 edge matrix:\n",
      "2021-04-01 16:27:30.705680: I tensorflow/core/common_runtime/gpu/gpu_device.cc:1267]      0 \n",
      "2021-04-01 16:27:30.705916: I tensorflow/core/common_runtime/gpu/gpu_device.cc:1280] 0:   N \n",
      "2021-04-01 16:27:30.706823: I tensorflow/core/common_runtime/gpu/gpu_device.cc:1406] Created TensorFlow device (/job:localhost/replica:0/task:0/device:GPU:0 with 2982 MB memory) -> physical GPU (device: 0, name: NVIDIA GeForce GTX 1050 Ti, pci bus id: 0000:01:00.0, compute capability: 6.1)\n",
      "2021-04-01 16:27:30.714450: I tensorflow/compiler/jit/xla_gpu_device.cc:99] Not creating XLA devices, tf_xla_enable_xla_devices not set\n",
      "2021-04-01 16:27:42.185977: I tensorflow/stream_executor/platform/default/dso_loader.cc:49] Successfully opened dynamic library cudnn64_8.dll\n",
      "2021-04-01 16:27:43.542879: I tensorflow/core/platform/windows/subprocess.cc:308] SubProcess ended with return code: 0\n",
      "\n",
      "2021-04-01 16:27:43.635499: I tensorflow/core/platform/windows/subprocess.cc:308] SubProcess ended with return code: 0\n",
      "\n",
      "2021-04-01 16:27:43.681951: I tensorflow/stream_executor/platform/default/dso_loader.cc:49] Successfully opened dynamic library cublas64_11.dll\n",
      "2021-04-01 16:27:44.295199: I tensorflow/stream_executor/platform/default/dso_loader.cc:49] Successfully opened dynamic library cublasLt64_11.dll\n",
      "\n",
      "================================================================================\n",
      "количество tp изображений: 527\n",
      "количество tp изображений: 527\n",
      "\n",
      "Имя модели: model_epoch-01.h5\n",
      "Прогон тестового набора...\n",
      "\n",
      "Имя модели: model_epoch-03.h5\n",
      "Прогон тестового набора...\n",
      "\n",
      "Имя модели: model_epoch-04.h5\n",
      "Прогон тестового набора...\n",
      "\n",
      "Имя модели: model_epoch-05.h5\n",
      "Прогон тестового набора...\n",
      "\n",
      "Имя модели: model_epoch-06.h5\n",
      "Прогон тестового набора...\n",
      "\n",
      "Имя модели: model_epoch-07.h5\n",
      "Прогон тестового набора...\n",
      "\n",
      "Имя модели: model_epoch-08.h5\n",
      "Прогон тестового набора...\n",
      "\n",
      "Имя модели: model_epoch-107.h5\n",
      "Прогон тестового набора...\n",
      "\n",
      "Имя модели: model_epoch-16.h5\n",
      "Прогон тестового набора...\n",
      "\n",
      "Имя модели: model_epoch-19.h5\n",
      "Прогон тестового набора...\n",
      "\n",
      "Имя модели: model_epoch-26.h5\n",
      "Прогон тестового набора...\n",
      "\n",
      "Имя модели: model_epoch-40.h5\n",
      "Прогон тестового набора...\n",
      "\n",
      "Имя модели: model_epoch-42.h5\n",
      "Прогон тестового набора...\n",
      "\n",
      "Имя модели: model_epoch-85.h5\n",
      "Прогон тестового набора...\n",
      "\n",
      "Имя модели: model_epoch-90.h5\n",
      "Прогон тестового набора...\n",
      "\n",
      "Имя модели: model_epoch-91.h5\n",
      "Прогон тестового набора...\n"
     ]
    }
   ],
   "source": [
    "!python run_preds.py -c testing_files\\cfgs\\json_cfg.json"
   ]
  },
  {
   "cell_type": "code",
   "execution_count": 2,
   "metadata": {},
   "outputs": [
    {
     "output_type": "stream",
     "name": "stdout",
     "text": [
      "Предикты модели model_epoch-01\n",
      "Тип данных: tp\n",
      "Количество изображений: 527\n",
      "Тип данных: bg2021-04-01 16:34:15.567707: I tensorflow/stream_executor/platform/default/dso_loader.cc:49] Successfully opened dynamic library cudart64_110.dll\n",
      "\n",
      "Количество изображений: 527\n",
      "Предикты модели model_epoch-03\n",
      "Тип данных: tp\n",
      "Количество изображений: 527\n",
      "Тип данных: bg\n",
      "Количество изображений: 527\n",
      "Предикты модели model_epoch-04\n",
      "Тип данных: tp\n",
      "Количество изображений: 527\n",
      "Тип данных: bg\n",
      "Количество изображений: 527\n",
      "Предикты модели model_epoch-05\n",
      "Тип данных: tp\n",
      "Количество изображений: 527\n",
      "Тип данных: bg\n",
      "Количество изображений: 527\n",
      "Предикты модели model_epoch-06\n",
      "Тип данных: tp\n",
      "Количество изображений: 527\n",
      "Тип данных: bg\n",
      "Количество изображений: 527\n",
      "Предикты модели model_epoch-07\n",
      "Тип данных: tp\n",
      "Количество изображений: 527\n",
      "Тип данных: bg\n",
      "Количество изображений: 527\n",
      "Предикты модели model_epoch-08\n",
      "Тип данных: tp\n",
      "Количество изображений: 527\n",
      "Тип данных: bg\n",
      "Количество изображений: 527\n",
      "Предикты модели model_epoch-107\n",
      "Тип данных: tp\n",
      "Количество изображений: 527\n",
      "Тип данных: bg\n",
      "Количество изображений: 527\n",
      "Предикты модели model_epoch-16\n",
      "Тип данных: tp\n",
      "Количество изображений: 527\n",
      "Тип данных: bg\n",
      "Количество изображений: 527\n",
      "Предикты модели model_epoch-19\n",
      "Тип данных: tp\n",
      "Количество изображений: 527\n",
      "Тип данных: bg\n",
      "Количество изображений: 527\n",
      "Предикты модели model_epoch-26\n",
      "Тип данных: tp\n",
      "Количество изображений: 527\n",
      "Тип данных: bg\n",
      "Количество изображений: 527\n",
      "Предикты модели model_epoch-40\n",
      "Тип данных: tp\n",
      "Количество изображений: 527\n",
      "Тип данных: bg\n",
      "Количество изображений: 527\n",
      "Предикты модели model_epoch-42\n",
      "Тип данных: tp\n",
      "Количество изображений: 527\n",
      "Тип данных: bg\n",
      "Количество изображений: 527\n",
      "Предикты модели model_epoch-85\n",
      "Тип данных: tp\n",
      "Количество изображений: 527\n",
      "Тип данных: bg\n",
      "Количество изображений: 527\n",
      "Предикты модели model_epoch-90\n",
      "Тип данных: tp\n",
      "Количество изображений: 527\n",
      "Тип данных: bg\n",
      "Количество изображений: 527\n",
      "Предикты модели model_epoch-91\n",
      "Тип данных: tp\n",
      "Количество изображений: 527\n",
      "Тип данных: bg\n",
      "Количество изображений: 527\n"
     ]
    }
   ],
   "source": [
    "!python check_pred_data.py -c testing_files\\cfgs\\json_cfg.json"
   ]
  },
  {
   "cell_type": "code",
   "execution_count": 3,
   "metadata": {},
   "outputs": [
    {
     "output_type": "stream",
     "name": "stdout",
     "text": [
      "    Произвожу расчет порога модели model_epoch-01^\n     Загружаю данные...\n     Произвожу расчет и оценку...\n[527, 0, 527, 0]\n     Сохранение результатов\n    Произвожу расчет порога модели model_epoch-03^\n     Загружаю данные...\n     Произвожу расчет и оценку...\n[217, 310, 1, 526]\n     Сохранение результатов\n    Произвожу расчет порога модели model_epoch-04^\n     Загружаю данные...\n     Произвожу расчет и оценку...\n[449, 78, 11, 516]\n     Сохранение результатов\n    Произвожу расчет порога модели model_epoch-05^\n     Загружаю данные...\n     Произвожу расчет и оценку...\n[446, 81, 9, 518]\n     Сохранение результатов\n    Произвожу расчет порога модели model_epoch-06^\n     Загружаю данные...\n     Произвожу расчет и оценку...\n[439, 88, 2, 525]\n     Сохранение результатов\n    Произвожу расчет порога модели model_epoch-07^\n     Загружаю данные...\n     Произвожу расчет и оценку...\n[490, 37, 6, 521]\n     Сохранение результатов\n    Произвожу расчет порога модели model_epoch-08^\n     Загружаю данные...\n     Произвожу расчет и оценку...\n[512, 15, 7, 520]\n     Сохранение результатов\n    Произвожу расчет порога модели model_epoch-107^\n     Загружаю данные...\n     Произвожу расчет и оценку...\n[522, 5, 2, 525]\n     Сохранение результатов\n    Произвожу расчет порога модели model_epoch-16^\n     Загружаю данные...\n     Произвожу расчет и оценку...\n[518, 9, 9, 518]\n     Сохранение результатов\n    Произвожу расчет порога модели model_epoch-19^\n     Загружаю данные...\n     Произвожу расчет и оценку...\n[520, 7, 4, 523]\n     Сохранение результатов\n    Произвожу расчет порога модели model_epoch-26^\n     Загружаю данные...\n     Произвожу расчет и оценку...\n[520, 7, 6, 521]\n     Сохранение результатов\n    Произвожу расчет порога модели model_epoch-40^\n     Загружаю данные...\n     Произвожу расчет и оценку...\n[522, 5, 6, 521]\n     Сохранение результатов\n    Произвожу расчет порога модели model_epoch-42^\n     Загружаю данные...\n     Произвожу расчет и оценку...\n[521, 6, 5, 522]\n     Сохранение результатов\n    Произвожу расчет порога модели model_epoch-85^\n     Загружаю данные...\n     Произвожу расчет и оценку...\n[521, 6, 1, 526]\n     Сохранение результатов\n    Произвожу расчет порога модели model_epoch-90^\n     Загружаю данные...\n     Произвожу расчет и оценку...\n[521, 6, 1, 526]\n     Сохранение результатов\n    Произвожу расчет порога модели model_epoch-91^\n     Загружаю данные...\n     Произвожу расчет и оценку...\n[523, 4, 1, 526]\n     Сохранение результатов\n    Произвожу расчет roc модели model_epoch-01\n     Загружаю данные...\n     Произвожу расчет и оценку...\n    Произвожу расчет roc модели model_epoch-03\n     Загружаю данные...\n     Произвожу расчет и оценку...\n    Произвожу расчет roc модели model_epoch-04\n     Загружаю данные...\n     Произвожу расчет и оценку...\n    Произвожу расчет roc модели model_epoch-05\n     Загружаю данные...\n     Произвожу расчет и оценку...\n    Произвожу расчет roc модели model_epoch-06\n     Загружаю данные...\n     Произвожу расчет и оценку...\n    Произвожу расчет roc модели model_epoch-07\n     Загружаю данные...\n     Произвожу расчет и оценку...\n    Произвожу расчет roc модели model_epoch-08\n     Загружаю данные...\n     Произвожу расчет и оценку...\n    Произвожу расчет roc модели model_epoch-107\n     Загружаю данные...\n     Произвожу расчет и оценку...\n    Произвожу расчет roc модели model_epoch-16\n     Загружаю данные...\n     Произвожу расчет и оценку...\n    Произвожу расчет roc модели model_epoch-19\n     Загружаю данные...\n     Произвожу расчет и оценку...\n    Произвожу расчет roc модели model_epoch-26\n     Загружаю данные...\n     Произвожу расчет и оценку...\n    Произвожу расчет roc модели model_epoch-40\n     Загружаю данные...\n     Произвожу расчет и оценку...\n    Произвожу расчет roc модели model_epoch-42\n     Загружаю данные...\n     Произвожу расчет и оценку...\n    Произвожу расчет roc модели model_epoch-85\n     Загружаю данные...\n     Произвожу расчет и оценку...\n    Произвожу расчет roc модели model_epoch-90\n     Загружаю данные...\n     Произвожу расчет и оценку...\n    Произвожу расчет roc модели model_epoch-91\n     Загружаю данные...\n     Произвожу расчет и оценку...\n"
     ]
    }
   ],
   "source": [
    "!python calculate_metrics.py -c testing_files\\cfgs\\json_cfg.json"
   ]
  },
  {
   "cell_type": "code",
   "execution_count": 1,
   "metadata": {},
   "outputs": [],
   "source": [
    "import numpy as np\n",
    "import pandas as pd\n",
    "import os\n",
    "import matplotlib.pylab as plt\n",
    "import utils"
   ]
  },
  {
   "cell_type": "code",
   "execution_count": 3,
   "metadata": {},
   "outputs": [],
   "source": [
    "df = pd.read_csv('testing_files\\\\final_64\\\\history\\\\model_training_log.csv')"
   ]
  },
  {
   "cell_type": "code",
   "execution_count": 4,
   "metadata": {},
   "outputs": [
    {
     "output_type": "execute_result",
     "data": {
      "text/plain": [
       "      epoch    box_loss  conf_loss        loss  val_box_loss  val_conf_loss  \\\n",
       "0         0  402.097198   0.622681  101.147018    464.441040       0.753276   \n",
       "1         1  178.128754   0.340246   44.872440    699.777344       1.680776   \n",
       "2         2  150.314072   0.278583   37.857075    682.716858       2.062065   \n",
       "3         3  133.187637   0.249434   33.546341    717.844788       2.427521   \n",
       "4         4  119.903297   0.225605   30.201433    508.112305       1.660286   \n",
       "...     ...         ...        ...         ...           ...            ...   \n",
       "2995   2995    1.176083   0.000016    0.294037      2.268351       0.001310   \n",
       "2996   2996    1.210068   0.000460    0.302977      2.626471       0.002106   \n",
       "2997   2997    1.323164   0.000309    0.331100      1.946750       0.000480   \n",
       "2998   2998    1.343639   0.000036    0.335946      2.379865       0.003287   \n",
       "2999   2999    1.576963   0.002519    0.396760      2.652228       0.001424   \n",
       "\n",
       "        val_loss  \n",
       "0     116.863274  \n",
       "1     176.625214  \n",
       "2     172.741333  \n",
       "3     181.888657  \n",
       "4     128.688370  \n",
       "...          ...  \n",
       "2995    0.568398  \n",
       "2996    0.658724  \n",
       "2997    0.487168  \n",
       "2998    0.598253  \n",
       "2999    0.664481  \n",
       "\n",
       "[3000 rows x 7 columns]"
      ],
      "text/html": "<div>\n<style scoped>\n    .dataframe tbody tr th:only-of-type {\n        vertical-align: middle;\n    }\n\n    .dataframe tbody tr th {\n        vertical-align: top;\n    }\n\n    .dataframe thead th {\n        text-align: right;\n    }\n</style>\n<table border=\"1\" class=\"dataframe\">\n  <thead>\n    <tr style=\"text-align: right;\">\n      <th></th>\n      <th>epoch</th>\n      <th>box_loss</th>\n      <th>conf_loss</th>\n      <th>loss</th>\n      <th>val_box_loss</th>\n      <th>val_conf_loss</th>\n      <th>val_loss</th>\n    </tr>\n  </thead>\n  <tbody>\n    <tr>\n      <th>0</th>\n      <td>0</td>\n      <td>402.097198</td>\n      <td>0.622681</td>\n      <td>101.147018</td>\n      <td>464.441040</td>\n      <td>0.753276</td>\n      <td>116.863274</td>\n    </tr>\n    <tr>\n      <th>1</th>\n      <td>1</td>\n      <td>178.128754</td>\n      <td>0.340246</td>\n      <td>44.872440</td>\n      <td>699.777344</td>\n      <td>1.680776</td>\n      <td>176.625214</td>\n    </tr>\n    <tr>\n      <th>2</th>\n      <td>2</td>\n      <td>150.314072</td>\n      <td>0.278583</td>\n      <td>37.857075</td>\n      <td>682.716858</td>\n      <td>2.062065</td>\n      <td>172.741333</td>\n    </tr>\n    <tr>\n      <th>3</th>\n      <td>3</td>\n      <td>133.187637</td>\n      <td>0.249434</td>\n      <td>33.546341</td>\n      <td>717.844788</td>\n      <td>2.427521</td>\n      <td>181.888657</td>\n    </tr>\n    <tr>\n      <th>4</th>\n      <td>4</td>\n      <td>119.903297</td>\n      <td>0.225605</td>\n      <td>30.201433</td>\n      <td>508.112305</td>\n      <td>1.660286</td>\n      <td>128.688370</td>\n    </tr>\n    <tr>\n      <th>...</th>\n      <td>...</td>\n      <td>...</td>\n      <td>...</td>\n      <td>...</td>\n      <td>...</td>\n      <td>...</td>\n      <td>...</td>\n    </tr>\n    <tr>\n      <th>2995</th>\n      <td>2995</td>\n      <td>1.176083</td>\n      <td>0.000016</td>\n      <td>0.294037</td>\n      <td>2.268351</td>\n      <td>0.001310</td>\n      <td>0.568398</td>\n    </tr>\n    <tr>\n      <th>2996</th>\n      <td>2996</td>\n      <td>1.210068</td>\n      <td>0.000460</td>\n      <td>0.302977</td>\n      <td>2.626471</td>\n      <td>0.002106</td>\n      <td>0.658724</td>\n    </tr>\n    <tr>\n      <th>2997</th>\n      <td>2997</td>\n      <td>1.323164</td>\n      <td>0.000309</td>\n      <td>0.331100</td>\n      <td>1.946750</td>\n      <td>0.000480</td>\n      <td>0.487168</td>\n    </tr>\n    <tr>\n      <th>2998</th>\n      <td>2998</td>\n      <td>1.343639</td>\n      <td>0.000036</td>\n      <td>0.335946</td>\n      <td>2.379865</td>\n      <td>0.003287</td>\n      <td>0.598253</td>\n    </tr>\n    <tr>\n      <th>2999</th>\n      <td>2999</td>\n      <td>1.576963</td>\n      <td>0.002519</td>\n      <td>0.396760</td>\n      <td>2.652228</td>\n      <td>0.001424</td>\n      <td>0.664481</td>\n    </tr>\n  </tbody>\n</table>\n<p>3000 rows × 7 columns</p>\n</div>"
     },
     "metadata": {},
     "execution_count": 4
    }
   ],
   "source": [
    "df\n"
   ]
  },
  {
   "cell_type": "code",
   "execution_count": 4,
   "metadata": {},
   "outputs": [],
   "source": [
    "acc_json_names = os.listdir('testing_files\\\\opt_param1\\\\results\\\\json_acc_data')\n",
    "auc_json_names = os.listdir('testing_files\\\\opt_param1\\\\results\\\\json_roc_auc_data')\n",
    "result_dir = 'testing_files\\\\opt_param1\\\\results'"
   ]
  },
  {
   "cell_type": "code",
   "execution_count": 5,
   "metadata": {},
   "outputs": [],
   "source": [
    "def get_acc_model_name(json_name):\n",
    "    return json_name[16:].split('.')[0]\n",
    "\n",
    "def get_auc_model_name(json_name):\n",
    "    return json_name[19:].split('.')[0]\n",
    "\n",
    "def load_metrics(acc_json_names, auc_json_names, result_dir):\n",
    "    acc_dir = os.path.join(result_dir, 'json_acc_data')\n",
    "    auc_dir = os.path.join(result_dir, 'json_roc_auc_data')\n",
    "    num_models = len(acc_json_names)\n",
    "    metric_data = {}\n",
    "    for i in range(num_models):\n",
    "        acc_json_name = acc_json_names[i]\n",
    "        auc_json_name = auc_json_names[i]\n",
    "        model_name = int(acc_json_name.split('-')[-1].split('.')[0])\n",
    "        acc_pth = os.path.join(acc_dir, acc_json_name)\n",
    "        auc_pth = os.path.join(auc_dir, auc_json_name)\n",
    "        metric_data[model_name] = {'acc': utils.get_json_data(acc_pth)['accuracy'], 'auc': utils.get_json_data(auc_pth)['auc']}\n",
    "    return metric_data\n",
    "\n",
    "def get_acc_auc(metric_data, epochs):\n",
    "    acc = []\n",
    "    auc = []\n",
    "    for epoch in epochs:\n",
    "        acc.append(metric_data[epoch]['acc'])\n",
    "        auc.append(metric_data[epoch]['auc'])\n",
    "    return acc, auc "
   ]
  },
  {
   "cell_type": "code",
   "execution_count": 6,
   "metadata": {},
   "outputs": [
    {
     "output_type": "error",
     "ename": "NameError",
     "evalue": "name 'utils' is not defined",
     "traceback": [
      "\u001b[1;31m---------------------------------------------------------------------------\u001b[0m",
      "\u001b[1;31mNameError\u001b[0m                                 Traceback (most recent call last)",
      "\u001b[1;32m<ipython-input-6-037d1570b158>\u001b[0m in \u001b[0;36m<module>\u001b[1;34m\u001b[0m\n\u001b[1;32m----> 1\u001b[1;33m \u001b[0mmetric_data\u001b[0m \u001b[1;33m=\u001b[0m \u001b[0mload_metrics\u001b[0m\u001b[1;33m(\u001b[0m\u001b[0macc_json_names\u001b[0m\u001b[1;33m,\u001b[0m \u001b[0mauc_json_names\u001b[0m\u001b[1;33m,\u001b[0m \u001b[0mresult_dir\u001b[0m\u001b[1;33m)\u001b[0m\u001b[1;33m\u001b[0m\u001b[1;33m\u001b[0m\u001b[0m\n\u001b[0m",
      "\u001b[1;32m<ipython-input-5-346a0e9ed3e8>\u001b[0m in \u001b[0;36mload_metrics\u001b[1;34m(acc_json_names, auc_json_names, result_dir)\u001b[0m\n\u001b[0;32m     16\u001b[0m         \u001b[0macc_pth\u001b[0m \u001b[1;33m=\u001b[0m \u001b[0mos\u001b[0m\u001b[1;33m.\u001b[0m\u001b[0mpath\u001b[0m\u001b[1;33m.\u001b[0m\u001b[0mjoin\u001b[0m\u001b[1;33m(\u001b[0m\u001b[0macc_dir\u001b[0m\u001b[1;33m,\u001b[0m \u001b[0macc_json_name\u001b[0m\u001b[1;33m)\u001b[0m\u001b[1;33m\u001b[0m\u001b[1;33m\u001b[0m\u001b[0m\n\u001b[0;32m     17\u001b[0m         \u001b[0mauc_pth\u001b[0m \u001b[1;33m=\u001b[0m \u001b[0mos\u001b[0m\u001b[1;33m.\u001b[0m\u001b[0mpath\u001b[0m\u001b[1;33m.\u001b[0m\u001b[0mjoin\u001b[0m\u001b[1;33m(\u001b[0m\u001b[0mauc_dir\u001b[0m\u001b[1;33m,\u001b[0m \u001b[0mauc_json_name\u001b[0m\u001b[1;33m)\u001b[0m\u001b[1;33m\u001b[0m\u001b[1;33m\u001b[0m\u001b[0m\n\u001b[1;32m---> 18\u001b[1;33m         \u001b[0mmetric_data\u001b[0m\u001b[1;33m[\u001b[0m\u001b[0mmodel_name\u001b[0m\u001b[1;33m]\u001b[0m \u001b[1;33m=\u001b[0m \u001b[1;33m{\u001b[0m\u001b[1;34m'acc'\u001b[0m\u001b[1;33m:\u001b[0m \u001b[0mutils\u001b[0m\u001b[1;33m.\u001b[0m\u001b[0mget_json_data\u001b[0m\u001b[1;33m(\u001b[0m\u001b[0macc_pth\u001b[0m\u001b[1;33m)\u001b[0m\u001b[1;33m[\u001b[0m\u001b[1;34m'accuracy'\u001b[0m\u001b[1;33m]\u001b[0m\u001b[1;33m,\u001b[0m \u001b[1;34m'auc'\u001b[0m\u001b[1;33m:\u001b[0m \u001b[0mutils\u001b[0m\u001b[1;33m.\u001b[0m\u001b[0mget_json_data\u001b[0m\u001b[1;33m(\u001b[0m\u001b[0mauc_pth\u001b[0m\u001b[1;33m)\u001b[0m\u001b[1;33m[\u001b[0m\u001b[1;34m'auc'\u001b[0m\u001b[1;33m]\u001b[0m\u001b[1;33m}\u001b[0m\u001b[1;33m\u001b[0m\u001b[1;33m\u001b[0m\u001b[0m\n\u001b[0m\u001b[0;32m     19\u001b[0m     \u001b[1;32mreturn\u001b[0m \u001b[0mmetric_data\u001b[0m\u001b[1;33m\u001b[0m\u001b[1;33m\u001b[0m\u001b[0m\n\u001b[0;32m     20\u001b[0m \u001b[1;33m\u001b[0m\u001b[0m\n",
      "\u001b[1;31mNameError\u001b[0m: name 'utils' is not defined"
     ]
    }
   ],
   "source": [
    "metric_data = load_metrics(acc_json_names, auc_json_names, result_dir)"
   ]
  },
  {
   "cell_type": "code",
   "execution_count": 8,
   "metadata": {},
   "outputs": [
    {
     "output_type": "execute_result",
     "data": {
      "text/plain": [
       "{1: {'acc': 0.5, 'auc': 0.5},\n",
       " 3: {'acc': 0.8055028462998103, 'auc': 0.8055028462998102},\n",
       " 4: {'acc': 0.8396584440227703, 'auc': 0.8396584440227705},\n",
       " 5: {'acc': 0.9554079696394687, 'auc': 0.9554079696394686},\n",
       " 9: {'acc': 0.9554079696394687, 'auc': 0.9554079696394686},\n",
       " 10: {'acc': 0.9667931688804554, 'auc': 0.9667931688804553},\n",
       " 11: {'acc': 0.9734345351043643, 'auc': 0.9734345351043643},\n",
       " 122: {'acc': 0.9943074003795066, 'auc': 0.9943074003795067},\n",
       " 123: {'acc': 0.9962049335863378, 'auc': 0.9962049335863377},\n",
       " 126: {'acc': 0.9952561669829222, 'auc': 0.9952561669829222},\n",
       " 129: {'acc': 0.9952561669829222, 'auc': 0.9952561669829222},\n",
       " 13: {'acc': 0.976280834914611, 'auc': 0.976280834914611},\n",
       " 135: {'acc': 0.9962049335863378, 'auc': 0.9962049335863377},\n",
       " 137: {'acc': 0.9952561669829222, 'auc': 0.9952561669829222},\n",
       " 14: {'acc': 0.9772296015180265, 'auc': 0.9772296015180266},\n",
       " 141: {'acc': 0.9962049335863378, 'auc': 0.9962049335863377},\n",
       " 156: {'acc': 0.9962049335863378, 'auc': 0.9962049335863377},\n",
       " 16: {'acc': 0.9791271347248577, 'auc': 0.9791271347248577},\n",
       " 189: {'acc': 0.9943074003795066, 'auc': 0.9943074003795065},\n",
       " 20: {'acc': 0.9791271347248577, 'auc': 0.9791271347248578},\n",
       " 213: {'acc': 0.9943074003795066, 'auc': 0.9943074003795065},\n",
       " 22: {'acc': 0.9819734345351043, 'auc': 0.9819734345351043},\n",
       " 25: {'acc': 0.9781783681214421, 'auc': 0.9781783681214422},\n",
       " 27: {'acc': 0.9857685009487666, 'auc': 0.9857685009487664},\n",
       " 29: {'acc': 0.9867172675521821, 'auc': 0.9867172675521823},\n",
       " 300: {'acc': 0.9933586337760911, 'auc': 0.993358633776091},\n",
       " 34: {'acc': 0.9876660341555977, 'auc': 0.9876660341555976},\n",
       " 36: {'acc': 0.9848197343453511, 'auc': 0.984819734345351},\n",
       " 39: {'acc': 0.9876660341555977, 'auc': 0.9876660341555977},\n",
       " 40: {'acc': 0.9848197343453511, 'auc': 0.984819734345351},\n",
       " 41: {'acc': 0.9886148007590133, 'auc': 0.9886148007590133},\n",
       " 42: {'acc': 0.9886148007590133, 'auc': 0.9886148007590133},\n",
       " 43: {'acc': 0.9905123339658444, 'auc': 0.9905123339658443},\n",
       " 56: {'acc': 0.99146110056926, 'auc': 0.99146110056926},\n",
       " 63: {'acc': 0.9933586337760911, 'auc': 0.993358633776091},\n",
       " 70: {'acc': 0.9924098671726755, 'auc': 0.9924098671726754},\n",
       " 81: {'acc': 0.9905123339658444, 'auc': 0.9905123339658443}}"
      ]
     },
     "metadata": {},
     "execution_count": 8
    }
   ],
   "source": [
    "metric_data"
   ]
  },
  {
   "cell_type": "code",
   "execution_count": 10,
   "metadata": {},
   "outputs": [],
   "source": [
    "epochs = list(metric_data.keys())\n",
    "epochs = sorted(epochs)\n",
    "acc, auc = get_acc_auc(metric_data, epochs)"
   ]
  },
  {
   "cell_type": "code",
   "execution_count": 11,
   "metadata": {},
   "outputs": [
    {
     "output_type": "display_data",
     "data": {
      "text/plain": "<Figure size 720x504 with 1 Axes>",
      "image/svg+xml": "<?xml version=\"1.0\" encoding=\"utf-8\" standalone=\"no\"?>\r\n<!DOCTYPE svg PUBLIC \"-//W3C//DTD SVG 1.1//EN\"\r\n  \"http://www.w3.org/Graphics/SVG/1.1/DTD/svg11.dtd\">\r\n<!-- Created with matplotlib (https://matplotlib.org/) -->\r\n<svg height=\"411.598125pt\" version=\"1.1\" viewBox=\"0 0 595.303125 411.598125\" width=\"595.303125pt\" xmlns=\"http://www.w3.org/2000/svg\" xmlns:xlink=\"http://www.w3.org/1999/xlink\">\r\n <metadata>\r\n  <rdf:RDF xmlns:cc=\"http://creativecommons.org/ns#\" xmlns:dc=\"http://purl.org/dc/elements/1.1/\" xmlns:rdf=\"http://www.w3.org/1999/02/22-rdf-syntax-ns#\">\r\n   <cc:Work>\r\n    <dc:type rdf:resource=\"http://purl.org/dc/dcmitype/StillImage\"/>\r\n    <dc:date>2021-03-29T19:18:08.838093</dc:date>\r\n    <dc:format>image/svg+xml</dc:format>\r\n    <dc:creator>\r\n     <cc:Agent>\r\n      <dc:title>Matplotlib v3.3.2, https://matplotlib.org/</dc:title>\r\n     </cc:Agent>\r\n    </dc:creator>\r\n   </cc:Work>\r\n  </rdf:RDF>\r\n </metadata>\r\n <defs>\r\n  <style type=\"text/css\">*{stroke-linecap:butt;stroke-linejoin:round;}</style>\r\n </defs>\r\n <g id=\"figure_1\">\r\n  <g id=\"patch_1\">\r\n   <path d=\"M -0 411.598125 \r\nL 595.303125 411.598125 \r\nL 595.303125 0 \r\nL -0 0 \r\nz\r\n\" style=\"fill:none;\"/>\r\n  </g>\r\n  <g id=\"axes_1\">\r\n   <g id=\"patch_2\">\r\n    <path d=\"M 30.103125 387.72 \r\nL 588.103125 387.72 \r\nL 588.103125 7.2 \r\nL 30.103125 7.2 \r\nz\r\n\" style=\"fill:#ffffff;\"/>\r\n   </g>\r\n   <g id=\"PathCollection_1\">\r\n    <defs>\r\n     <path d=\"M 0 3 \r\nC 0.795609 3 1.55874 2.683901 2.12132 2.12132 \r\nC 2.683901 1.55874 3 0.795609 3 0 \r\nC 3 -0.795609 2.683901 -1.55874 2.12132 -2.12132 \r\nC 1.55874 -2.683901 0.795609 -3 0 -3 \r\nC -0.795609 -3 -1.55874 -2.683901 -2.12132 -2.12132 \r\nC -2.683901 -1.55874 -3 -0.795609 -3 0 \r\nC -3 0.795609 -2.683901 1.55874 -2.12132 2.12132 \r\nC -1.55874 2.683901 -0.795609 3 0 3 \r\nz\r\n\" id=\"m77b3475d28\" style=\"stroke:#1f77b4;\"/>\r\n    </defs>\r\n    <g clip-path=\"url(#pfc2ca318c7)\">\r\n     <use style=\"fill:#1f77b4;stroke:#1f77b4;\" x=\"55.466761\" xlink:href=\"#m77b3475d28\" y=\"370.423636\"/>\r\n     <use style=\"fill:#1f77b4;stroke:#1f77b4;\" x=\"60.252353\" xlink:href=\"#m77b3475d28\" y=\"157.443556\"/>\r\n     <use style=\"fill:#1f77b4;stroke:#1f77b4;\" x=\"62.645149\" xlink:href=\"#m77b3475d28\" y=\"133.632119\"/>\r\n     <use style=\"fill:#1f77b4;stroke:#1f77b4;\" x=\"65.037945\" xlink:href=\"#m77b3475d28\" y=\"52.937803\"/>\r\n     <use style=\"fill:#1f77b4;stroke:#1f77b4;\" x=\"74.609128\" xlink:href=\"#m77b3475d28\" y=\"52.937803\"/>\r\n     <use style=\"fill:#1f77b4;stroke:#1f77b4;\" x=\"77.001924\" xlink:href=\"#m77b3475d28\" y=\"45.000657\"/>\r\n     <use style=\"fill:#1f77b4;stroke:#1f77b4;\" x=\"79.39472\" xlink:href=\"#m77b3475d28\" y=\"40.370655\"/>\r\n     <use style=\"fill:#1f77b4;stroke:#1f77b4;\" x=\"84.180312\" xlink:href=\"#m77b3475d28\" y=\"38.386369\"/>\r\n     <use style=\"fill:#1f77b4;stroke:#1f77b4;\" x=\"86.573108\" xlink:href=\"#m77b3475d28\" y=\"37.72494\"/>\r\n     <use style=\"fill:#1f77b4;stroke:#1f77b4;\" x=\"91.3587\" xlink:href=\"#m77b3475d28\" y=\"36.402082\"/>\r\n     <use style=\"fill:#1f77b4;stroke:#1f77b4;\" x=\"100.929883\" xlink:href=\"#m77b3475d28\" y=\"36.402082\"/>\r\n     <use style=\"fill:#1f77b4;stroke:#1f77b4;\" x=\"105.715475\" xlink:href=\"#m77b3475d28\" y=\"34.417796\"/>\r\n     <use style=\"fill:#1f77b4;stroke:#1f77b4;\" x=\"112.893863\" xlink:href=\"#m77b3475d28\" y=\"37.063511\"/>\r\n     <use style=\"fill:#1f77b4;stroke:#1f77b4;\" x=\"117.679454\" xlink:href=\"#m77b3475d28\" y=\"31.772081\"/>\r\n     <use style=\"fill:#1f77b4;stroke:#1f77b4;\" x=\"122.465046\" xlink:href=\"#m77b3475d28\" y=\"31.110652\"/>\r\n     <use style=\"fill:#1f77b4;stroke:#1f77b4;\" x=\"134.429026\" xlink:href=\"#m77b3475d28\" y=\"30.449223\"/>\r\n     <use style=\"fill:#1f77b4;stroke:#1f77b4;\" x=\"139.214617\" xlink:href=\"#m77b3475d28\" y=\"32.433509\"/>\r\n     <use style=\"fill:#1f77b4;stroke:#1f77b4;\" x=\"146.393005\" xlink:href=\"#m77b3475d28\" y=\"30.449223\"/>\r\n     <use style=\"fill:#1f77b4;stroke:#1f77b4;\" x=\"148.785801\" xlink:href=\"#m77b3475d28\" y=\"32.433509\"/>\r\n     <use style=\"fill:#1f77b4;stroke:#1f77b4;\" x=\"151.178597\" xlink:href=\"#m77b3475d28\" y=\"29.787794\"/>\r\n     <use style=\"fill:#1f77b4;stroke:#1f77b4;\" x=\"153.571393\" xlink:href=\"#m77b3475d28\" y=\"29.787794\"/>\r\n     <use style=\"fill:#1f77b4;stroke:#1f77b4;\" x=\"155.964188\" xlink:href=\"#m77b3475d28\" y=\"28.464937\"/>\r\n     <use style=\"fill:#1f77b4;stroke:#1f77b4;\" x=\"187.070535\" xlink:href=\"#m77b3475d28\" y=\"27.803508\"/>\r\n     <use style=\"fill:#1f77b4;stroke:#1f77b4;\" x=\"203.820106\" xlink:href=\"#m77b3475d28\" y=\"26.48065\"/>\r\n     <use style=\"fill:#1f77b4;stroke:#1f77b4;\" x=\"220.569677\" xlink:href=\"#m77b3475d28\" y=\"27.142079\"/>\r\n     <use style=\"fill:#1f77b4;stroke:#1f77b4;\" x=\"246.890432\" xlink:href=\"#m77b3475d28\" y=\"28.464937\"/>\r\n     <use style=\"fill:#1f77b4;stroke:#1f77b4;\" x=\"344.995063\" xlink:href=\"#m77b3475d28\" y=\"25.819221\"/>\r\n     <use style=\"fill:#1f77b4;stroke:#1f77b4;\" x=\"347.387859\" xlink:href=\"#m77b3475d28\" y=\"24.496364\"/>\r\n     <use style=\"fill:#1f77b4;stroke:#1f77b4;\" x=\"354.566247\" xlink:href=\"#m77b3475d28\" y=\"25.157792\"/>\r\n     <use style=\"fill:#1f77b4;stroke:#1f77b4;\" x=\"361.744634\" xlink:href=\"#m77b3475d28\" y=\"25.157792\"/>\r\n     <use style=\"fill:#1f77b4;stroke:#1f77b4;\" x=\"376.10141\" xlink:href=\"#m77b3475d28\" y=\"24.496364\"/>\r\n     <use style=\"fill:#1f77b4;stroke:#1f77b4;\" x=\"380.887002\" xlink:href=\"#m77b3475d28\" y=\"25.157792\"/>\r\n     <use style=\"fill:#1f77b4;stroke:#1f77b4;\" x=\"390.458185\" xlink:href=\"#m77b3475d28\" y=\"24.496364\"/>\r\n     <use style=\"fill:#1f77b4;stroke:#1f77b4;\" x=\"426.350123\" xlink:href=\"#m77b3475d28\" y=\"24.496364\"/>\r\n     <use style=\"fill:#1f77b4;stroke:#1f77b4;\" x=\"505.312387\" xlink:href=\"#m77b3475d28\" y=\"25.819221\"/>\r\n     <use style=\"fill:#1f77b4;stroke:#1f77b4;\" x=\"562.739489\" xlink:href=\"#m77b3475d28\" y=\"25.819221\"/>\r\n    </g>\r\n   </g>\r\n   <g id=\"PathCollection_2\">\r\n    <defs>\r\n     <path d=\"M 0 3 \r\nC 0.795609 3 1.55874 2.683901 2.12132 2.12132 \r\nC 2.683901 1.55874 3 0.795609 3 0 \r\nC 3 -0.795609 2.683901 -1.55874 2.12132 -2.12132 \r\nC 1.55874 -2.683901 0.795609 -3 0 -3 \r\nC -0.795609 -3 -1.55874 -2.683901 -2.12132 -2.12132 \r\nC -2.683901 -1.55874 -3 -0.795609 -3 0 \r\nC -3 0.795609 -2.683901 1.55874 -2.12132 2.12132 \r\nC -1.55874 2.683901 -0.795609 3 0 3 \r\nz\r\n\" id=\"mae106ba982\" style=\"stroke:#ff7f0e;\"/>\r\n    </defs>\r\n    <g clip-path=\"url(#pfc2ca318c7)\">\r\n     <use style=\"fill:#ff7f0e;stroke:#ff7f0e;\" x=\"55.466761\" xlink:href=\"#mae106ba982\" y=\"370.423636\"/>\r\n     <use style=\"fill:#ff7f0e;stroke:#ff7f0e;\" x=\"60.252353\" xlink:href=\"#mae106ba982\" y=\"157.443556\"/>\r\n     <use style=\"fill:#ff7f0e;stroke:#ff7f0e;\" x=\"62.645149\" xlink:href=\"#mae106ba982\" y=\"133.632119\"/>\r\n     <use style=\"fill:#ff7f0e;stroke:#ff7f0e;\" x=\"65.037945\" xlink:href=\"#mae106ba982\" y=\"52.937803\"/>\r\n     <use style=\"fill:#ff7f0e;stroke:#ff7f0e;\" x=\"74.609128\" xlink:href=\"#mae106ba982\" y=\"52.937803\"/>\r\n     <use style=\"fill:#ff7f0e;stroke:#ff7f0e;\" x=\"77.001924\" xlink:href=\"#mae106ba982\" y=\"45.000657\"/>\r\n     <use style=\"fill:#ff7f0e;stroke:#ff7f0e;\" x=\"79.39472\" xlink:href=\"#mae106ba982\" y=\"40.370655\"/>\r\n     <use style=\"fill:#ff7f0e;stroke:#ff7f0e;\" x=\"84.180312\" xlink:href=\"#mae106ba982\" y=\"38.386369\"/>\r\n     <use style=\"fill:#ff7f0e;stroke:#ff7f0e;\" x=\"86.573108\" xlink:href=\"#mae106ba982\" y=\"37.72494\"/>\r\n     <use style=\"fill:#ff7f0e;stroke:#ff7f0e;\" x=\"91.3587\" xlink:href=\"#mae106ba982\" y=\"36.402082\"/>\r\n     <use style=\"fill:#ff7f0e;stroke:#ff7f0e;\" x=\"100.929883\" xlink:href=\"#mae106ba982\" y=\"36.402082\"/>\r\n     <use style=\"fill:#ff7f0e;stroke:#ff7f0e;\" x=\"105.715475\" xlink:href=\"#mae106ba982\" y=\"34.417796\"/>\r\n     <use style=\"fill:#ff7f0e;stroke:#ff7f0e;\" x=\"112.893863\" xlink:href=\"#mae106ba982\" y=\"37.063511\"/>\r\n     <use style=\"fill:#ff7f0e;stroke:#ff7f0e;\" x=\"117.679454\" xlink:href=\"#mae106ba982\" y=\"31.772081\"/>\r\n     <use style=\"fill:#ff7f0e;stroke:#ff7f0e;\" x=\"122.465046\" xlink:href=\"#mae106ba982\" y=\"31.110652\"/>\r\n     <use style=\"fill:#ff7f0e;stroke:#ff7f0e;\" x=\"134.429026\" xlink:href=\"#mae106ba982\" y=\"30.449223\"/>\r\n     <use style=\"fill:#ff7f0e;stroke:#ff7f0e;\" x=\"139.214617\" xlink:href=\"#mae106ba982\" y=\"32.433509\"/>\r\n     <use style=\"fill:#ff7f0e;stroke:#ff7f0e;\" x=\"146.393005\" xlink:href=\"#mae106ba982\" y=\"30.449223\"/>\r\n     <use style=\"fill:#ff7f0e;stroke:#ff7f0e;\" x=\"148.785801\" xlink:href=\"#mae106ba982\" y=\"32.433509\"/>\r\n     <use style=\"fill:#ff7f0e;stroke:#ff7f0e;\" x=\"151.178597\" xlink:href=\"#mae106ba982\" y=\"29.787794\"/>\r\n     <use style=\"fill:#ff7f0e;stroke:#ff7f0e;\" x=\"153.571393\" xlink:href=\"#mae106ba982\" y=\"29.787794\"/>\r\n     <use style=\"fill:#ff7f0e;stroke:#ff7f0e;\" x=\"155.964188\" xlink:href=\"#mae106ba982\" y=\"28.464937\"/>\r\n     <use style=\"fill:#ff7f0e;stroke:#ff7f0e;\" x=\"187.070535\" xlink:href=\"#mae106ba982\" y=\"27.803508\"/>\r\n     <use style=\"fill:#ff7f0e;stroke:#ff7f0e;\" x=\"203.820106\" xlink:href=\"#mae106ba982\" y=\"26.48065\"/>\r\n     <use style=\"fill:#ff7f0e;stroke:#ff7f0e;\" x=\"220.569677\" xlink:href=\"#mae106ba982\" y=\"27.142079\"/>\r\n     <use style=\"fill:#ff7f0e;stroke:#ff7f0e;\" x=\"246.890432\" xlink:href=\"#mae106ba982\" y=\"28.464937\"/>\r\n     <use style=\"fill:#ff7f0e;stroke:#ff7f0e;\" x=\"344.995063\" xlink:href=\"#mae106ba982\" y=\"25.819221\"/>\r\n     <use style=\"fill:#ff7f0e;stroke:#ff7f0e;\" x=\"347.387859\" xlink:href=\"#mae106ba982\" y=\"24.496364\"/>\r\n     <use style=\"fill:#ff7f0e;stroke:#ff7f0e;\" x=\"354.566247\" xlink:href=\"#mae106ba982\" y=\"25.157792\"/>\r\n     <use style=\"fill:#ff7f0e;stroke:#ff7f0e;\" x=\"361.744634\" xlink:href=\"#mae106ba982\" y=\"25.157792\"/>\r\n     <use style=\"fill:#ff7f0e;stroke:#ff7f0e;\" x=\"376.10141\" xlink:href=\"#mae106ba982\" y=\"24.496364\"/>\r\n     <use style=\"fill:#ff7f0e;stroke:#ff7f0e;\" x=\"380.887002\" xlink:href=\"#mae106ba982\" y=\"25.157792\"/>\r\n     <use style=\"fill:#ff7f0e;stroke:#ff7f0e;\" x=\"390.458185\" xlink:href=\"#mae106ba982\" y=\"24.496364\"/>\r\n     <use style=\"fill:#ff7f0e;stroke:#ff7f0e;\" x=\"426.350123\" xlink:href=\"#mae106ba982\" y=\"24.496364\"/>\r\n     <use style=\"fill:#ff7f0e;stroke:#ff7f0e;\" x=\"505.312387\" xlink:href=\"#mae106ba982\" y=\"25.819221\"/>\r\n     <use style=\"fill:#ff7f0e;stroke:#ff7f0e;\" x=\"562.739489\" xlink:href=\"#mae106ba982\" y=\"25.819221\"/>\r\n    </g>\r\n   </g>\r\n   <g id=\"matplotlib.axis_1\">\r\n    <g id=\"xtick_1\">\r\n     <g id=\"line2d_1\">\r\n      <path clip-path=\"url(#pfc2ca318c7)\" d=\"M 53.073965 387.72 \r\nL 53.073965 7.2 \r\n\" style=\"fill:none;stroke:#b0b0b0;stroke-linecap:square;stroke-width:0.8;\"/>\r\n     </g>\r\n     <g id=\"line2d_2\">\r\n      <defs>\r\n       <path d=\"M 0 0 \r\nL 0 3.5 \r\n\" id=\"m63886fc628\" style=\"stroke:#000000;stroke-width:0.8;\"/>\r\n      </defs>\r\n      <g>\r\n       <use style=\"stroke:#000000;stroke-width:0.8;\" x=\"53.073965\" xlink:href=\"#m63886fc628\" y=\"387.72\"/>\r\n      </g>\r\n     </g>\r\n     <g id=\"text_1\">\r\n      <!-- 0 -->\r\n      <g transform=\"translate(49.892715 402.318437)scale(0.1 -0.1)\">\r\n       <defs>\r\n        <path d=\"M 31.78125 66.40625 \r\nQ 24.171875 66.40625 20.328125 58.90625 \r\nQ 16.5 51.421875 16.5 36.375 \r\nQ 16.5 21.390625 20.328125 13.890625 \r\nQ 24.171875 6.390625 31.78125 6.390625 \r\nQ 39.453125 6.390625 43.28125 13.890625 \r\nQ 47.125 21.390625 47.125 36.375 \r\nQ 47.125 51.421875 43.28125 58.90625 \r\nQ 39.453125 66.40625 31.78125 66.40625 \r\nz\r\nM 31.78125 74.21875 \r\nQ 44.046875 74.21875 50.515625 64.515625 \r\nQ 56.984375 54.828125 56.984375 36.375 \r\nQ 56.984375 17.96875 50.515625 8.265625 \r\nQ 44.046875 -1.421875 31.78125 -1.421875 \r\nQ 19.53125 -1.421875 13.0625 8.265625 \r\nQ 6.59375 17.96875 6.59375 36.375 \r\nQ 6.59375 54.828125 13.0625 64.515625 \r\nQ 19.53125 74.21875 31.78125 74.21875 \r\nz\r\n\" id=\"DejaVuSans-48\"/>\r\n       </defs>\r\n       <use xlink:href=\"#DejaVuSans-48\"/>\r\n      </g>\r\n     </g>\r\n    </g>\r\n    <g id=\"xtick_2\">\r\n     <g id=\"line2d_3\">\r\n      <path clip-path=\"url(#pfc2ca318c7)\" d=\"M 172.71376 387.72 \r\nL 172.71376 7.2 \r\n\" style=\"fill:none;stroke:#b0b0b0;stroke-linecap:square;stroke-width:0.8;\"/>\r\n     </g>\r\n     <g id=\"line2d_4\">\r\n      <g>\r\n       <use style=\"stroke:#000000;stroke-width:0.8;\" x=\"172.71376\" xlink:href=\"#m63886fc628\" y=\"387.72\"/>\r\n      </g>\r\n     </g>\r\n     <g id=\"text_2\">\r\n      <!-- 50 -->\r\n      <g transform=\"translate(166.35126 402.318437)scale(0.1 -0.1)\">\r\n       <defs>\r\n        <path d=\"M 10.796875 72.90625 \r\nL 49.515625 72.90625 \r\nL 49.515625 64.59375 \r\nL 19.828125 64.59375 \r\nL 19.828125 46.734375 \r\nQ 21.96875 47.46875 24.109375 47.828125 \r\nQ 26.265625 48.1875 28.421875 48.1875 \r\nQ 40.625 48.1875 47.75 41.5 \r\nQ 54.890625 34.8125 54.890625 23.390625 \r\nQ 54.890625 11.625 47.5625 5.09375 \r\nQ 40.234375 -1.421875 26.90625 -1.421875 \r\nQ 22.3125 -1.421875 17.546875 -0.640625 \r\nQ 12.796875 0.140625 7.71875 1.703125 \r\nL 7.71875 11.625 \r\nQ 12.109375 9.234375 16.796875 8.0625 \r\nQ 21.484375 6.890625 26.703125 6.890625 \r\nQ 35.15625 6.890625 40.078125 11.328125 \r\nQ 45.015625 15.765625 45.015625 23.390625 \r\nQ 45.015625 31 40.078125 35.4375 \r\nQ 35.15625 39.890625 26.703125 39.890625 \r\nQ 22.75 39.890625 18.8125 39.015625 \r\nQ 14.890625 38.140625 10.796875 36.28125 \r\nz\r\n\" id=\"DejaVuSans-53\"/>\r\n       </defs>\r\n       <use xlink:href=\"#DejaVuSans-53\"/>\r\n       <use x=\"63.623047\" xlink:href=\"#DejaVuSans-48\"/>\r\n      </g>\r\n     </g>\r\n    </g>\r\n    <g id=\"xtick_3\">\r\n     <g id=\"line2d_5\">\r\n      <path clip-path=\"url(#pfc2ca318c7)\" d=\"M 292.353554 387.72 \r\nL 292.353554 7.2 \r\n\" style=\"fill:none;stroke:#b0b0b0;stroke-linecap:square;stroke-width:0.8;\"/>\r\n     </g>\r\n     <g id=\"line2d_6\">\r\n      <g>\r\n       <use style=\"stroke:#000000;stroke-width:0.8;\" x=\"292.353554\" xlink:href=\"#m63886fc628\" y=\"387.72\"/>\r\n      </g>\r\n     </g>\r\n     <g id=\"text_3\">\r\n      <!-- 100 -->\r\n      <g transform=\"translate(282.809804 402.318437)scale(0.1 -0.1)\">\r\n       <defs>\r\n        <path d=\"M 12.40625 8.296875 \r\nL 28.515625 8.296875 \r\nL 28.515625 63.921875 \r\nL 10.984375 60.40625 \r\nL 10.984375 69.390625 \r\nL 28.421875 72.90625 \r\nL 38.28125 72.90625 \r\nL 38.28125 8.296875 \r\nL 54.390625 8.296875 \r\nL 54.390625 0 \r\nL 12.40625 0 \r\nz\r\n\" id=\"DejaVuSans-49\"/>\r\n       </defs>\r\n       <use xlink:href=\"#DejaVuSans-49\"/>\r\n       <use x=\"63.623047\" xlink:href=\"#DejaVuSans-48\"/>\r\n       <use x=\"127.246094\" xlink:href=\"#DejaVuSans-48\"/>\r\n      </g>\r\n     </g>\r\n    </g>\r\n    <g id=\"xtick_4\">\r\n     <g id=\"line2d_7\">\r\n      <path clip-path=\"url(#pfc2ca318c7)\" d=\"M 411.993348 387.72 \r\nL 411.993348 7.2 \r\n\" style=\"fill:none;stroke:#b0b0b0;stroke-linecap:square;stroke-width:0.8;\"/>\r\n     </g>\r\n     <g id=\"line2d_8\">\r\n      <g>\r\n       <use style=\"stroke:#000000;stroke-width:0.8;\" x=\"411.993348\" xlink:href=\"#m63886fc628\" y=\"387.72\"/>\r\n      </g>\r\n     </g>\r\n     <g id=\"text_4\">\r\n      <!-- 150 -->\r\n      <g transform=\"translate(402.449598 402.318437)scale(0.1 -0.1)\">\r\n       <use xlink:href=\"#DejaVuSans-49\"/>\r\n       <use x=\"63.623047\" xlink:href=\"#DejaVuSans-53\"/>\r\n       <use x=\"127.246094\" xlink:href=\"#DejaVuSans-48\"/>\r\n      </g>\r\n     </g>\r\n    </g>\r\n    <g id=\"xtick_5\">\r\n     <g id=\"line2d_9\">\r\n      <path clip-path=\"url(#pfc2ca318c7)\" d=\"M 531.633142 387.72 \r\nL 531.633142 7.2 \r\n\" style=\"fill:none;stroke:#b0b0b0;stroke-linecap:square;stroke-width:0.8;\"/>\r\n     </g>\r\n     <g id=\"line2d_10\">\r\n      <g>\r\n       <use style=\"stroke:#000000;stroke-width:0.8;\" x=\"531.633142\" xlink:href=\"#m63886fc628\" y=\"387.72\"/>\r\n      </g>\r\n     </g>\r\n     <g id=\"text_5\">\r\n      <!-- 200 -->\r\n      <g transform=\"translate(522.089392 402.318437)scale(0.1 -0.1)\">\r\n       <defs>\r\n        <path d=\"M 19.1875 8.296875 \r\nL 53.609375 8.296875 \r\nL 53.609375 0 \r\nL 7.328125 0 \r\nL 7.328125 8.296875 \r\nQ 12.9375 14.109375 22.625 23.890625 \r\nQ 32.328125 33.6875 34.8125 36.53125 \r\nQ 39.546875 41.84375 41.421875 45.53125 \r\nQ 43.3125 49.21875 43.3125 52.78125 \r\nQ 43.3125 58.59375 39.234375 62.25 \r\nQ 35.15625 65.921875 28.609375 65.921875 \r\nQ 23.96875 65.921875 18.8125 64.3125 \r\nQ 13.671875 62.703125 7.8125 59.421875 \r\nL 7.8125 69.390625 \r\nQ 13.765625 71.78125 18.9375 73 \r\nQ 24.125 74.21875 28.421875 74.21875 \r\nQ 39.75 74.21875 46.484375 68.546875 \r\nQ 53.21875 62.890625 53.21875 53.421875 \r\nQ 53.21875 48.921875 51.53125 44.890625 \r\nQ 49.859375 40.875 45.40625 35.40625 \r\nQ 44.1875 33.984375 37.640625 27.21875 \r\nQ 31.109375 20.453125 19.1875 8.296875 \r\nz\r\n\" id=\"DejaVuSans-50\"/>\r\n       </defs>\r\n       <use xlink:href=\"#DejaVuSans-50\"/>\r\n       <use x=\"63.623047\" xlink:href=\"#DejaVuSans-48\"/>\r\n       <use x=\"127.246094\" xlink:href=\"#DejaVuSans-48\"/>\r\n      </g>\r\n     </g>\r\n    </g>\r\n   </g>\r\n   <g id=\"matplotlib.axis_2\">\r\n    <g id=\"ytick_1\">\r\n     <g id=\"line2d_11\">\r\n      <path clip-path=\"url(#pfc2ca318c7)\" d=\"M 30.103125 370.423636 \r\nL 588.103125 370.423636 \r\n\" style=\"fill:none;stroke:#b0b0b0;stroke-linecap:square;stroke-width:0.8;\"/>\r\n     </g>\r\n     <g id=\"line2d_12\">\r\n      <defs>\r\n       <path d=\"M 0 0 \r\nL -3.5 0 \r\n\" id=\"m8875ff2ce6\" style=\"stroke:#000000;stroke-width:0.8;\"/>\r\n      </defs>\r\n      <g>\r\n       <use style=\"stroke:#000000;stroke-width:0.8;\" x=\"30.103125\" xlink:href=\"#m8875ff2ce6\" y=\"370.423636\"/>\r\n      </g>\r\n     </g>\r\n     <g id=\"text_6\">\r\n      <!-- 0.5 -->\r\n      <g transform=\"translate(7.2 374.222855)scale(0.1 -0.1)\">\r\n       <defs>\r\n        <path d=\"M 10.6875 12.40625 \r\nL 21 12.40625 \r\nL 21 0 \r\nL 10.6875 0 \r\nz\r\n\" id=\"DejaVuSans-46\"/>\r\n       </defs>\r\n       <use xlink:href=\"#DejaVuSans-48\"/>\r\n       <use x=\"63.623047\" xlink:href=\"#DejaVuSans-46\"/>\r\n       <use x=\"95.410156\" xlink:href=\"#DejaVuSans-53\"/>\r\n      </g>\r\n     </g>\r\n    </g>\r\n    <g id=\"ytick_2\">\r\n     <g id=\"line2d_13\">\r\n      <path clip-path=\"url(#pfc2ca318c7)\" d=\"M 30.103125 300.709039 \r\nL 588.103125 300.709039 \r\n\" style=\"fill:none;stroke:#b0b0b0;stroke-linecap:square;stroke-width:0.8;\"/>\r\n     </g>\r\n     <g id=\"line2d_14\">\r\n      <g>\r\n       <use style=\"stroke:#000000;stroke-width:0.8;\" x=\"30.103125\" xlink:href=\"#m8875ff2ce6\" y=\"300.709039\"/>\r\n      </g>\r\n     </g>\r\n     <g id=\"text_7\">\r\n      <!-- 0.6 -->\r\n      <g transform=\"translate(7.2 304.508258)scale(0.1 -0.1)\">\r\n       <defs>\r\n        <path d=\"M 33.015625 40.375 \r\nQ 26.375 40.375 22.484375 35.828125 \r\nQ 18.609375 31.296875 18.609375 23.390625 \r\nQ 18.609375 15.53125 22.484375 10.953125 \r\nQ 26.375 6.390625 33.015625 6.390625 \r\nQ 39.65625 6.390625 43.53125 10.953125 \r\nQ 47.40625 15.53125 47.40625 23.390625 \r\nQ 47.40625 31.296875 43.53125 35.828125 \r\nQ 39.65625 40.375 33.015625 40.375 \r\nz\r\nM 52.59375 71.296875 \r\nL 52.59375 62.3125 \r\nQ 48.875 64.0625 45.09375 64.984375 \r\nQ 41.3125 65.921875 37.59375 65.921875 \r\nQ 27.828125 65.921875 22.671875 59.328125 \r\nQ 17.53125 52.734375 16.796875 39.40625 \r\nQ 19.671875 43.65625 24.015625 45.921875 \r\nQ 28.375 48.1875 33.59375 48.1875 \r\nQ 44.578125 48.1875 50.953125 41.515625 \r\nQ 57.328125 34.859375 57.328125 23.390625 \r\nQ 57.328125 12.15625 50.6875 5.359375 \r\nQ 44.046875 -1.421875 33.015625 -1.421875 \r\nQ 20.359375 -1.421875 13.671875 8.265625 \r\nQ 6.984375 17.96875 6.984375 36.375 \r\nQ 6.984375 53.65625 15.1875 63.9375 \r\nQ 23.390625 74.21875 37.203125 74.21875 \r\nQ 40.921875 74.21875 44.703125 73.484375 \r\nQ 48.484375 72.75 52.59375 71.296875 \r\nz\r\n\" id=\"DejaVuSans-54\"/>\r\n       </defs>\r\n       <use xlink:href=\"#DejaVuSans-48\"/>\r\n       <use x=\"63.623047\" xlink:href=\"#DejaVuSans-46\"/>\r\n       <use x=\"95.410156\" xlink:href=\"#DejaVuSans-54\"/>\r\n      </g>\r\n     </g>\r\n    </g>\r\n    <g id=\"ytick_3\">\r\n     <g id=\"line2d_15\">\r\n      <path clip-path=\"url(#pfc2ca318c7)\" d=\"M 30.103125 230.994441 \r\nL 588.103125 230.994441 \r\n\" style=\"fill:none;stroke:#b0b0b0;stroke-linecap:square;stroke-width:0.8;\"/>\r\n     </g>\r\n     <g id=\"line2d_16\">\r\n      <g>\r\n       <use style=\"stroke:#000000;stroke-width:0.8;\" x=\"30.103125\" xlink:href=\"#m8875ff2ce6\" y=\"230.994441\"/>\r\n      </g>\r\n     </g>\r\n     <g id=\"text_8\">\r\n      <!-- 0.7 -->\r\n      <g transform=\"translate(7.2 234.79366)scale(0.1 -0.1)\">\r\n       <defs>\r\n        <path d=\"M 8.203125 72.90625 \r\nL 55.078125 72.90625 \r\nL 55.078125 68.703125 \r\nL 28.609375 0 \r\nL 18.3125 0 \r\nL 43.21875 64.59375 \r\nL 8.203125 64.59375 \r\nz\r\n\" id=\"DejaVuSans-55\"/>\r\n       </defs>\r\n       <use xlink:href=\"#DejaVuSans-48\"/>\r\n       <use x=\"63.623047\" xlink:href=\"#DejaVuSans-46\"/>\r\n       <use x=\"95.410156\" xlink:href=\"#DejaVuSans-55\"/>\r\n      </g>\r\n     </g>\r\n    </g>\r\n    <g id=\"ytick_4\">\r\n     <g id=\"line2d_17\">\r\n      <path clip-path=\"url(#pfc2ca318c7)\" d=\"M 30.103125 161.279844 \r\nL 588.103125 161.279844 \r\n\" style=\"fill:none;stroke:#b0b0b0;stroke-linecap:square;stroke-width:0.8;\"/>\r\n     </g>\r\n     <g id=\"line2d_18\">\r\n      <g>\r\n       <use style=\"stroke:#000000;stroke-width:0.8;\" x=\"30.103125\" xlink:href=\"#m8875ff2ce6\" y=\"161.279844\"/>\r\n      </g>\r\n     </g>\r\n     <g id=\"text_9\">\r\n      <!-- 0.8 -->\r\n      <g transform=\"translate(7.2 165.079062)scale(0.1 -0.1)\">\r\n       <defs>\r\n        <path d=\"M 31.78125 34.625 \r\nQ 24.75 34.625 20.71875 30.859375 \r\nQ 16.703125 27.09375 16.703125 20.515625 \r\nQ 16.703125 13.921875 20.71875 10.15625 \r\nQ 24.75 6.390625 31.78125 6.390625 \r\nQ 38.8125 6.390625 42.859375 10.171875 \r\nQ 46.921875 13.96875 46.921875 20.515625 \r\nQ 46.921875 27.09375 42.890625 30.859375 \r\nQ 38.875 34.625 31.78125 34.625 \r\nz\r\nM 21.921875 38.8125 \r\nQ 15.578125 40.375 12.03125 44.71875 \r\nQ 8.5 49.078125 8.5 55.328125 \r\nQ 8.5 64.0625 14.71875 69.140625 \r\nQ 20.953125 74.21875 31.78125 74.21875 \r\nQ 42.671875 74.21875 48.875 69.140625 \r\nQ 55.078125 64.0625 55.078125 55.328125 \r\nQ 55.078125 49.078125 51.53125 44.71875 \r\nQ 48 40.375 41.703125 38.8125 \r\nQ 48.828125 37.15625 52.796875 32.3125 \r\nQ 56.78125 27.484375 56.78125 20.515625 \r\nQ 56.78125 9.90625 50.3125 4.234375 \r\nQ 43.84375 -1.421875 31.78125 -1.421875 \r\nQ 19.734375 -1.421875 13.25 4.234375 \r\nQ 6.78125 9.90625 6.78125 20.515625 \r\nQ 6.78125 27.484375 10.78125 32.3125 \r\nQ 14.796875 37.15625 21.921875 38.8125 \r\nz\r\nM 18.3125 54.390625 \r\nQ 18.3125 48.734375 21.84375 45.5625 \r\nQ 25.390625 42.390625 31.78125 42.390625 \r\nQ 38.140625 42.390625 41.71875 45.5625 \r\nQ 45.3125 48.734375 45.3125 54.390625 \r\nQ 45.3125 60.0625 41.71875 63.234375 \r\nQ 38.140625 66.40625 31.78125 66.40625 \r\nQ 25.390625 66.40625 21.84375 63.234375 \r\nQ 18.3125 60.0625 18.3125 54.390625 \r\nz\r\n\" id=\"DejaVuSans-56\"/>\r\n       </defs>\r\n       <use xlink:href=\"#DejaVuSans-48\"/>\r\n       <use x=\"63.623047\" xlink:href=\"#DejaVuSans-46\"/>\r\n       <use x=\"95.410156\" xlink:href=\"#DejaVuSans-56\"/>\r\n      </g>\r\n     </g>\r\n    </g>\r\n    <g id=\"ytick_5\">\r\n     <g id=\"line2d_19\">\r\n      <path clip-path=\"url(#pfc2ca318c7)\" d=\"M 30.103125 91.565246 \r\nL 588.103125 91.565246 \r\n\" style=\"fill:none;stroke:#b0b0b0;stroke-linecap:square;stroke-width:0.8;\"/>\r\n     </g>\r\n     <g id=\"line2d_20\">\r\n      <g>\r\n       <use style=\"stroke:#000000;stroke-width:0.8;\" x=\"30.103125\" xlink:href=\"#m8875ff2ce6\" y=\"91.565246\"/>\r\n      </g>\r\n     </g>\r\n     <g id=\"text_10\">\r\n      <!-- 0.9 -->\r\n      <g transform=\"translate(7.2 95.364465)scale(0.1 -0.1)\">\r\n       <defs>\r\n        <path d=\"M 10.984375 1.515625 \r\nL 10.984375 10.5 \r\nQ 14.703125 8.734375 18.5 7.8125 \r\nQ 22.3125 6.890625 25.984375 6.890625 \r\nQ 35.75 6.890625 40.890625 13.453125 \r\nQ 46.046875 20.015625 46.78125 33.40625 \r\nQ 43.953125 29.203125 39.59375 26.953125 \r\nQ 35.25 24.703125 29.984375 24.703125 \r\nQ 19.046875 24.703125 12.671875 31.3125 \r\nQ 6.296875 37.9375 6.296875 49.421875 \r\nQ 6.296875 60.640625 12.9375 67.421875 \r\nQ 19.578125 74.21875 30.609375 74.21875 \r\nQ 43.265625 74.21875 49.921875 64.515625 \r\nQ 56.59375 54.828125 56.59375 36.375 \r\nQ 56.59375 19.140625 48.40625 8.859375 \r\nQ 40.234375 -1.421875 26.421875 -1.421875 \r\nQ 22.703125 -1.421875 18.890625 -0.6875 \r\nQ 15.09375 0.046875 10.984375 1.515625 \r\nz\r\nM 30.609375 32.421875 \r\nQ 37.25 32.421875 41.125 36.953125 \r\nQ 45.015625 41.5 45.015625 49.421875 \r\nQ 45.015625 57.28125 41.125 61.84375 \r\nQ 37.25 66.40625 30.609375 66.40625 \r\nQ 23.96875 66.40625 20.09375 61.84375 \r\nQ 16.21875 57.28125 16.21875 49.421875 \r\nQ 16.21875 41.5 20.09375 36.953125 \r\nQ 23.96875 32.421875 30.609375 32.421875 \r\nz\r\n\" id=\"DejaVuSans-57\"/>\r\n       </defs>\r\n       <use xlink:href=\"#DejaVuSans-48\"/>\r\n       <use x=\"63.623047\" xlink:href=\"#DejaVuSans-46\"/>\r\n       <use x=\"95.410156\" xlink:href=\"#DejaVuSans-57\"/>\r\n      </g>\r\n     </g>\r\n    </g>\r\n    <g id=\"ytick_6\">\r\n     <g id=\"line2d_21\">\r\n      <path clip-path=\"url(#pfc2ca318c7)\" d=\"M 30.103125 21.850648 \r\nL 588.103125 21.850648 \r\n\" style=\"fill:none;stroke:#b0b0b0;stroke-linecap:square;stroke-width:0.8;\"/>\r\n     </g>\r\n     <g id=\"line2d_22\">\r\n      <g>\r\n       <use style=\"stroke:#000000;stroke-width:0.8;\" x=\"30.103125\" xlink:href=\"#m8875ff2ce6\" y=\"21.850648\"/>\r\n      </g>\r\n     </g>\r\n     <g id=\"text_11\">\r\n      <!-- 1.0 -->\r\n      <g transform=\"translate(7.2 25.649867)scale(0.1 -0.1)\">\r\n       <use xlink:href=\"#DejaVuSans-49\"/>\r\n       <use x=\"63.623047\" xlink:href=\"#DejaVuSans-46\"/>\r\n       <use x=\"95.410156\" xlink:href=\"#DejaVuSans-48\"/>\r\n      </g>\r\n     </g>\r\n    </g>\r\n   </g>\r\n   <g id=\"line2d_23\">\r\n    <path clip-path=\"url(#pfc2ca318c7)\" d=\"M 55.466761 370.423636 \r\nL 60.252353 157.443556 \r\nL 62.645149 133.632119 \r\nL 65.037945 52.937803 \r\nL 74.609128 52.937803 \r\nL 77.001924 45.000657 \r\nL 79.39472 40.370655 \r\nL 84.180312 38.386369 \r\nL 86.573108 37.72494 \r\nL 91.3587 36.402082 \r\nL 100.929883 36.402082 \r\nL 105.715475 34.417796 \r\nL 112.893863 37.063511 \r\nL 117.679454 31.772081 \r\nL 122.465046 31.110652 \r\nL 134.429026 30.449223 \r\nL 139.214617 32.433509 \r\nL 146.393005 30.449223 \r\nL 148.785801 32.433509 \r\nL 151.178597 29.787794 \r\nL 153.571393 29.787794 \r\nL 155.964188 28.464937 \r\nL 187.070535 27.803508 \r\nL 203.820106 26.48065 \r\nL 220.569677 27.142079 \r\nL 246.890432 28.464937 \r\nL 344.995063 25.819221 \r\nL 347.387859 24.496364 \r\nL 354.566247 25.157792 \r\nL 361.744634 25.157792 \r\nL 376.10141 24.496364 \r\nL 380.887002 25.157792 \r\nL 390.458185 24.496364 \r\nL 426.350123 24.496364 \r\nL 505.312387 25.819221 \r\nL 562.739489 25.819221 \r\n\" style=\"fill:none;stroke:#1f77b4;stroke-linecap:square;stroke-width:1.5;\"/>\r\n   </g>\r\n   <g id=\"line2d_24\">\r\n    <path clip-path=\"url(#pfc2ca318c7)\" d=\"M 55.466761 370.423636 \r\nL 60.252353 157.443556 \r\nL 62.645149 133.632119 \r\nL 65.037945 52.937803 \r\nL 74.609128 52.937803 \r\nL 77.001924 45.000657 \r\nL 79.39472 40.370655 \r\nL 84.180312 38.386369 \r\nL 86.573108 37.72494 \r\nL 91.3587 36.402082 \r\nL 100.929883 36.402082 \r\nL 105.715475 34.417796 \r\nL 112.893863 37.063511 \r\nL 117.679454 31.772081 \r\nL 122.465046 31.110652 \r\nL 134.429026 30.449223 \r\nL 139.214617 32.433509 \r\nL 146.393005 30.449223 \r\nL 148.785801 32.433509 \r\nL 151.178597 29.787794 \r\nL 153.571393 29.787794 \r\nL 155.964188 28.464937 \r\nL 187.070535 27.803508 \r\nL 203.820106 26.48065 \r\nL 220.569677 27.142079 \r\nL 246.890432 28.464937 \r\nL 344.995063 25.819221 \r\nL 347.387859 24.496364 \r\nL 354.566247 25.157792 \r\nL 361.744634 25.157792 \r\nL 376.10141 24.496364 \r\nL 380.887002 25.157792 \r\nL 390.458185 24.496364 \r\nL 426.350123 24.496364 \r\nL 505.312387 25.819221 \r\nL 562.739489 25.819221 \r\n\" style=\"fill:none;stroke:#ff7f0e;stroke-linecap:square;stroke-width:1.5;\"/>\r\n   </g>\r\n   <g id=\"patch_3\">\r\n    <path d=\"M 30.103125 387.72 \r\nL 30.103125 7.2 \r\n\" style=\"fill:none;stroke:#000000;stroke-linecap:square;stroke-linejoin:miter;stroke-width:0.8;\"/>\r\n   </g>\r\n   <g id=\"patch_4\">\r\n    <path d=\"M 588.103125 387.72 \r\nL 588.103125 7.2 \r\n\" style=\"fill:none;stroke:#000000;stroke-linecap:square;stroke-linejoin:miter;stroke-width:0.8;\"/>\r\n   </g>\r\n   <g id=\"patch_5\">\r\n    <path d=\"M 30.103125 387.72 \r\nL 588.103125 387.72 \r\n\" style=\"fill:none;stroke:#000000;stroke-linecap:square;stroke-linejoin:miter;stroke-width:0.8;\"/>\r\n   </g>\r\n   <g id=\"patch_6\">\r\n    <path d=\"M 30.103125 7.2 \r\nL 588.103125 7.2 \r\n\" style=\"fill:none;stroke:#000000;stroke-linecap:square;stroke-linejoin:miter;stroke-width:0.8;\"/>\r\n   </g>\r\n   <g id=\"legend_1\">\r\n    <g id=\"patch_7\">\r\n     <path d=\"M 531.139063 382.72 \r\nL 581.103125 382.72 \r\nQ 583.103125 382.72 583.103125 380.72 \r\nL 583.103125 323.0075 \r\nQ 583.103125 321.0075 581.103125 321.0075 \r\nL 531.139063 321.0075 \r\nQ 529.139063 321.0075 529.139063 323.0075 \r\nL 529.139063 380.72 \r\nQ 529.139063 382.72 531.139063 382.72 \r\nz\r\n\" style=\"fill:#ffffff;opacity:0.8;stroke:#cccccc;stroke-linejoin:miter;\"/>\r\n    </g>\r\n    <g id=\"line2d_25\">\r\n     <path d=\"M 533.139063 329.105937 \r\nL 553.139063 329.105937 \r\n\" style=\"fill:none;stroke:#1f77b4;stroke-linecap:square;stroke-width:1.5;\"/>\r\n    </g>\r\n    <g id=\"line2d_26\"/>\r\n    <g id=\"text_12\">\r\n     <!-- acc -->\r\n     <g transform=\"translate(561.139063 332.605937)scale(0.1 -0.1)\">\r\n      <defs>\r\n       <path d=\"M 34.28125 27.484375 \r\nQ 23.390625 27.484375 19.1875 25 \r\nQ 14.984375 22.515625 14.984375 16.5 \r\nQ 14.984375 11.71875 18.140625 8.90625 \r\nQ 21.296875 6.109375 26.703125 6.109375 \r\nQ 34.1875 6.109375 38.703125 11.40625 \r\nQ 43.21875 16.703125 43.21875 25.484375 \r\nL 43.21875 27.484375 \r\nz\r\nM 52.203125 31.203125 \r\nL 52.203125 0 \r\nL 43.21875 0 \r\nL 43.21875 8.296875 \r\nQ 40.140625 3.328125 35.546875 0.953125 \r\nQ 30.953125 -1.421875 24.3125 -1.421875 \r\nQ 15.921875 -1.421875 10.953125 3.296875 \r\nQ 6 8.015625 6 15.921875 \r\nQ 6 25.140625 12.171875 29.828125 \r\nQ 18.359375 34.515625 30.609375 34.515625 \r\nL 43.21875 34.515625 \r\nL 43.21875 35.40625 \r\nQ 43.21875 41.609375 39.140625 45 \r\nQ 35.0625 48.390625 27.6875 48.390625 \r\nQ 23 48.390625 18.546875 47.265625 \r\nQ 14.109375 46.140625 10.015625 43.890625 \r\nL 10.015625 52.203125 \r\nQ 14.9375 54.109375 19.578125 55.046875 \r\nQ 24.21875 56 28.609375 56 \r\nQ 40.484375 56 46.34375 49.84375 \r\nQ 52.203125 43.703125 52.203125 31.203125 \r\nz\r\n\" id=\"DejaVuSans-97\"/>\r\n       <path d=\"M 48.78125 52.59375 \r\nL 48.78125 44.1875 \r\nQ 44.96875 46.296875 41.140625 47.34375 \r\nQ 37.3125 48.390625 33.40625 48.390625 \r\nQ 24.65625 48.390625 19.8125 42.84375 \r\nQ 14.984375 37.3125 14.984375 27.296875 \r\nQ 14.984375 17.28125 19.8125 11.734375 \r\nQ 24.65625 6.203125 33.40625 6.203125 \r\nQ 37.3125 6.203125 41.140625 7.25 \r\nQ 44.96875 8.296875 48.78125 10.40625 \r\nL 48.78125 2.09375 \r\nQ 45.015625 0.34375 40.984375 -0.53125 \r\nQ 36.96875 -1.421875 32.421875 -1.421875 \r\nQ 20.0625 -1.421875 12.78125 6.34375 \r\nQ 5.515625 14.109375 5.515625 27.296875 \r\nQ 5.515625 40.671875 12.859375 48.328125 \r\nQ 20.21875 56 33.015625 56 \r\nQ 37.15625 56 41.109375 55.140625 \r\nQ 45.0625 54.296875 48.78125 52.59375 \r\nz\r\n\" id=\"DejaVuSans-99\"/>\r\n      </defs>\r\n      <use xlink:href=\"#DejaVuSans-97\"/>\r\n      <use x=\"61.279297\" xlink:href=\"#DejaVuSans-99\"/>\r\n      <use x=\"116.259766\" xlink:href=\"#DejaVuSans-99\"/>\r\n     </g>\r\n    </g>\r\n    <g id=\"line2d_27\">\r\n     <path d=\"M 533.139063 343.784062 \r\nL 553.139063 343.784062 \r\n\" style=\"fill:none;stroke:#ff7f0e;stroke-linecap:square;stroke-width:1.5;\"/>\r\n    </g>\r\n    <g id=\"line2d_28\"/>\r\n    <g id=\"text_13\">\r\n     <!-- auc -->\r\n     <g transform=\"translate(561.139063 347.284062)scale(0.1 -0.1)\">\r\n      <defs>\r\n       <path d=\"M 8.5 21.578125 \r\nL 8.5 54.6875 \r\nL 17.484375 54.6875 \r\nL 17.484375 21.921875 \r\nQ 17.484375 14.15625 20.5 10.265625 \r\nQ 23.53125 6.390625 29.59375 6.390625 \r\nQ 36.859375 6.390625 41.078125 11.03125 \r\nQ 45.3125 15.671875 45.3125 23.6875 \r\nL 45.3125 54.6875 \r\nL 54.296875 54.6875 \r\nL 54.296875 0 \r\nL 45.3125 0 \r\nL 45.3125 8.40625 \r\nQ 42.046875 3.421875 37.71875 1 \r\nQ 33.40625 -1.421875 27.6875 -1.421875 \r\nQ 18.265625 -1.421875 13.375 4.4375 \r\nQ 8.5 10.296875 8.5 21.578125 \r\nz\r\nM 31.109375 56 \r\nz\r\n\" id=\"DejaVuSans-117\"/>\r\n      </defs>\r\n      <use xlink:href=\"#DejaVuSans-97\"/>\r\n      <use x=\"61.279297\" xlink:href=\"#DejaVuSans-117\"/>\r\n      <use x=\"124.658203\" xlink:href=\"#DejaVuSans-99\"/>\r\n     </g>\r\n    </g>\r\n    <g id=\"PathCollection_3\">\r\n     <g>\r\n      <use style=\"fill:#1f77b4;stroke:#1f77b4;\" x=\"543.139063\" xlink:href=\"#m77b3475d28\" y=\"359.337187\"/>\r\n     </g>\r\n    </g>\r\n    <g id=\"text_14\">\r\n     <!-- acc -->\r\n     <g transform=\"translate(561.139063 361.962187)scale(0.1 -0.1)\">\r\n      <use xlink:href=\"#DejaVuSans-97\"/>\r\n      <use x=\"61.279297\" xlink:href=\"#DejaVuSans-99\"/>\r\n      <use x=\"116.259766\" xlink:href=\"#DejaVuSans-99\"/>\r\n     </g>\r\n    </g>\r\n    <g id=\"PathCollection_4\">\r\n     <g>\r\n      <use style=\"fill:#ff7f0e;stroke:#ff7f0e;\" x=\"543.139063\" xlink:href=\"#mae106ba982\" y=\"374.015312\"/>\r\n     </g>\r\n    </g>\r\n    <g id=\"text_15\">\r\n     <!-- auc -->\r\n     <g transform=\"translate(561.139063 376.640312)scale(0.1 -0.1)\">\r\n      <use xlink:href=\"#DejaVuSans-97\"/>\r\n      <use x=\"61.279297\" xlink:href=\"#DejaVuSans-117\"/>\r\n      <use x=\"124.658203\" xlink:href=\"#DejaVuSans-99\"/>\r\n     </g>\r\n    </g>\r\n   </g>\r\n  </g>\r\n </g>\r\n <defs>\r\n  <clipPath id=\"pfc2ca318c7\">\r\n   <rect height=\"380.52\" width=\"558\" x=\"30.103125\" y=\"7.2\"/>\r\n  </clipPath>\r\n </defs>\r\n</svg>\r\n",
      "image/png": "[encoded data removed]"
     },
     "metadata": {
      "needs_background": "light"
     }
    }
   ],
   "source": [
    "plt.figure(figsize=(10, 7))\n",
    "plt.plot(epochs[:-1], acc[:-1], label='acc')\n",
    "plt.scatter(epochs[:-1], acc[:-1], label='acc')\n",
    "plt.plot(epochs[:-1], auc[:-1], label='auc')\n",
    "plt.scatter(epochs[:-1], auc[:-1], label='auc')\n",
    "plt.legend()\n",
    "plt.grid('on')\n",
    "plt.show()"
   ]
  },
  {
   "cell_type": "code",
   "execution_count": 2,
   "metadata": {},
   "outputs": [],
   "source": [
    "human_df = pd.read_csv('testing_files\\\\tiny_64_1\\\\csv_conf\\\\model_epoch-156\\\\output_model_epoch-156_tp.csv')"
   ]
  },
  {
   "cell_type": "code",
   "execution_count": 6,
   "metadata": {},
   "outputs": [
    {
     "output_type": "execute_result",
     "data": {
      "text/plain": [
       "     Unnamed: 0       img_name  max_conf  iou box\n",
       "70           70  17_2_10_0.jpg         0  0.0  []\n",
       "189         189   7_2_10_0.jpg         0  0.0  []"
      ],
      "text/html": "<div>\n<style scoped>\n    .dataframe tbody tr th:only-of-type {\n        vertical-align: middle;\n    }\n\n    .dataframe tbody tr th {\n        vertical-align: top;\n    }\n\n    .dataframe thead th {\n        text-align: right;\n    }\n</style>\n<table border=\"1\" class=\"dataframe\">\n  <thead>\n    <tr style=\"text-align: right;\">\n      <th></th>\n      <th>Unnamed: 0</th>\n      <th>img_name</th>\n      <th>max_conf</th>\n      <th>iou</th>\n      <th>box</th>\n    </tr>\n  </thead>\n  <tbody>\n    <tr>\n      <th>70</th>\n      <td>70</td>\n      <td>17_2_10_0.jpg</td>\n      <td>0</td>\n      <td>0.0</td>\n      <td>[]</td>\n    </tr>\n    <tr>\n      <th>189</th>\n      <td>189</td>\n      <td>7_2_10_0.jpg</td>\n      <td>0</td>\n      <td>0.0</td>\n      <td>[]</td>\n    </tr>\n  </tbody>\n</table>\n</div>"
     },
     "metadata": {},
     "execution_count": 6
    }
   ],
   "source": [
    "human_df[human_df['max_conf'] != 1]"
   ]
  },
  {
   "cell_type": "code",
   "execution_count": 7,
   "metadata": {},
   "outputs": [
    {
     "output_type": "execute_result",
     "data": {
      "text/plain": [
       "     Unnamed: 0        img_name  max_conf       iou  \\\n",
       "70           70   17_2_10_0.jpg         0  0.000000   \n",
       "94           94  199_1_40_0.jpg         1  0.286315   \n",
       "95           95   19_0_30_1.jpg         1  0.417464   \n",
       "97           97  200_0_30_1.jpg         1  0.477431   \n",
       "124         124  226_5_40_0.jpg         1  0.253859   \n",
       "188         188    7_1_40_0.jpg         1  0.190725   \n",
       "189         189    7_2_10_0.jpg         0  0.000000   \n",
       "195         195   83_0_10_0.jpg         1  0.493361   \n",
       "207         207   a0_1_30_1.jpg         1  0.253392   \n",
       "209         209   a1_1_40_2.jpg         1  0.000000   \n",
       "210         210   a3_0_40_1.jpg         1  0.496179   \n",
       "\n",
       "                                                   box  \n",
       "70                                                  []  \n",
       "94   [34.053443908691406, 15.389646530151367, 58.14...  \n",
       "95   [15.532657623291016, 11.265019416809082, 33.59...  \n",
       "97   [6.914377212524414, 2.3486673831939697, 51.580...  \n",
       "124  [40.67264175415039, 20.290563583374023, 61.567...  \n",
       "188  [-3.0627028942108154, 7.8891377449035645, 13.7...  \n",
       "189                                                 []  \n",
       "195  [24.533370971679688, 4.071995258331299, 62.150...  \n",
       "207  [35.93610763549805, 9.014581680297852, 53.0300...  \n",
       "209  [3.276780128479004, 1.2773716449737549, 20.087...  \n",
       "210  [17.770944595336914, 6.0987114906311035, 59.75...  "
      ],
      "text/html": "<div>\n<style scoped>\n    .dataframe tbody tr th:only-of-type {\n        vertical-align: middle;\n    }\n\n    .dataframe tbody tr th {\n        vertical-align: top;\n    }\n\n    .dataframe thead th {\n        text-align: right;\n    }\n</style>\n<table border=\"1\" class=\"dataframe\">\n  <thead>\n    <tr style=\"text-align: right;\">\n      <th></th>\n      <th>Unnamed: 0</th>\n      <th>img_name</th>\n      <th>max_conf</th>\n      <th>iou</th>\n      <th>box</th>\n    </tr>\n  </thead>\n  <tbody>\n    <tr>\n      <th>70</th>\n      <td>70</td>\n      <td>17_2_10_0.jpg</td>\n      <td>0</td>\n      <td>0.000000</td>\n      <td>[]</td>\n    </tr>\n    <tr>\n      <th>94</th>\n      <td>94</td>\n      <td>199_1_40_0.jpg</td>\n      <td>1</td>\n      <td>0.286315</td>\n      <td>[34.053443908691406, 15.389646530151367, 58.14...</td>\n    </tr>\n    <tr>\n      <th>95</th>\n      <td>95</td>\n      <td>19_0_30_1.jpg</td>\n      <td>1</td>\n      <td>0.417464</td>\n      <td>[15.532657623291016, 11.265019416809082, 33.59...</td>\n    </tr>\n    <tr>\n      <th>97</th>\n      <td>97</td>\n      <td>200_0_30_1.jpg</td>\n      <td>1</td>\n      <td>0.477431</td>\n      <td>[6.914377212524414, 2.3486673831939697, 51.580...</td>\n    </tr>\n    <tr>\n      <th>124</th>\n      <td>124</td>\n      <td>226_5_40_0.jpg</td>\n      <td>1</td>\n      <td>0.253859</td>\n      <td>[40.67264175415039, 20.290563583374023, 61.567...</td>\n    </tr>\n    <tr>\n      <th>188</th>\n      <td>188</td>\n      <td>7_1_40_0.jpg</td>\n      <td>1</td>\n      <td>0.190725</td>\n      <td>[-3.0627028942108154, 7.8891377449035645, 13.7...</td>\n    </tr>\n    <tr>\n      <th>189</th>\n      <td>189</td>\n      <td>7_2_10_0.jpg</td>\n      <td>0</td>\n      <td>0.000000</td>\n      <td>[]</td>\n    </tr>\n    <tr>\n      <th>195</th>\n      <td>195</td>\n      <td>83_0_10_0.jpg</td>\n      <td>1</td>\n      <td>0.493361</td>\n      <td>[24.533370971679688, 4.071995258331299, 62.150...</td>\n    </tr>\n    <tr>\n      <th>207</th>\n      <td>207</td>\n      <td>a0_1_30_1.jpg</td>\n      <td>1</td>\n      <td>0.253392</td>\n      <td>[35.93610763549805, 9.014581680297852, 53.0300...</td>\n    </tr>\n    <tr>\n      <th>209</th>\n      <td>209</td>\n      <td>a1_1_40_2.jpg</td>\n      <td>1</td>\n      <td>0.000000</td>\n      <td>[3.276780128479004, 1.2773716449737549, 20.087...</td>\n    </tr>\n    <tr>\n      <th>210</th>\n      <td>210</td>\n      <td>a3_0_40_1.jpg</td>\n      <td>1</td>\n      <td>0.496179</td>\n      <td>[17.770944595336914, 6.0987114906311035, 59.75...</td>\n    </tr>\n  </tbody>\n</table>\n</div>"
     },
     "metadata": {},
     "execution_count": 7
    }
   ],
   "source": [
    "human_df[human_df['iou'] < 0.5]"
   ]
  },
  {
   "cell_type": "code",
   "execution_count": null,
   "metadata": {},
   "outputs": [],
   "source": [
    "acc_json_names = os.listdir('testing_files\\\\tiny_64_1\\\\results\\\\json_acc_data')\n",
    "auc_json_names = os.listdir('testing_files\\\\tiny_64_1\\\\results\\\\json_roc_auc_data')\n",
    "result_dir = 'testing_files\\\\tiny_64_1\\\\results'"
   ]
  },
  {
   "cell_type": "code",
   "execution_count": null,
   "metadata": {},
   "outputs": [],
   "source": [
    "metric_data2 = load_metrics(acc_json_names, auc_json_names, result_dir)"
   ]
  }
 ]
}